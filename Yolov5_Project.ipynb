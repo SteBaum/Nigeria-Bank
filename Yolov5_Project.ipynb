{
  "cells": [
    {
      "cell_type": "markdown",
      "metadata": {
        "id": "view-in-github",
        "colab_type": "text"
      },
      "source": [
        "<a href=\"https://colab.research.google.com/github/SteBaum/Nigeria-Bank/blob/main/Yolov5_Project.ipynb\" target=\"_parent\"><img src=\"https://colab.research.google.com/assets/colab-badge.svg\" alt=\"Open In Colab\"/></a>"
      ]
    },
    {
      "cell_type": "code",
      "execution_count": 1,
      "metadata": {
        "colab": {
          "base_uri": "https://localhost:8080/"
        },
        "id": "uRFW3axhPLjB",
        "outputId": "4060a0c7-d839-4f56-ff8b-68badbc6a66f"
      },
      "outputs": [
        {
          "output_type": "stream",
          "name": "stdout",
          "text": [
            "Mounted at /content/gdrive\n"
          ]
        }
      ],
      "source": [
        "# Connect to Google drive\n",
        "from google.colab import drive\n",
        "drive.mount('/content/gdrive')"
      ]
    },
    {
      "cell_type": "code",
      "execution_count": 4,
      "metadata": {
        "colab": {
          "base_uri": "https://localhost:8080/",
          "height": 679
        },
        "id": "YZx2djEsEMe-",
        "outputId": "4cf3dd22-6dc4-4d89-d4ac-af33ffa9e732"
      },
      "outputs": [
        {
          "output_type": "stream",
          "name": "stdout",
          "text": [
            "Looking in links: https://download.pytorch.org/whl/torch_stable.html\n",
            "Requirement already satisfied: torch==1.5.1+cu101 in /usr/local/lib/python3.7/dist-packages (1.5.1+cu101)\n",
            "Requirement already satisfied: torchvision==0.6.1+cu101 in /usr/local/lib/python3.7/dist-packages (0.6.1+cu101)\n",
            "Requirement already satisfied: future in /usr/local/lib/python3.7/dist-packages (from torch==1.5.1+cu101) (0.16.0)\n",
            "Requirement already satisfied: numpy in /usr/local/lib/python3.7/dist-packages (from torch==1.5.1+cu101) (1.17.0)\n",
            "Requirement already satisfied: pillow>=4.1.1 in /usr/local/lib/python3.7/dist-packages (from torchvision==0.6.1+cu101) (7.1.2)\n",
            "Collecting numpy==1.19.5\n",
            "  Downloading numpy-1.19.5-cp37-cp37m-manylinux2010_x86_64.whl (14.8 MB)\n",
            "\u001b[K     |████████████████████████████████| 14.8 MB 5.1 MB/s \n",
            "\u001b[?25hInstalling collected packages: numpy\n",
            "  Attempting uninstall: numpy\n",
            "    Found existing installation: numpy 1.17.0\n",
            "    Uninstalling numpy-1.17.0:\n",
            "      Successfully uninstalled numpy-1.17.0\n",
            "\u001b[31mERROR: pip's dependency resolver does not currently take into account all the packages that are installed. This behaviour is the source of the following dependency conflicts.\n",
            "torchtext 0.11.0 requires torch==1.10.0, but you have torch 1.5.1+cu101 which is incompatible.\n",
            "datascience 0.10.6 requires folium==0.2.1, but you have folium 0.8.3 which is incompatible.\n",
            "albumentations 0.1.12 requires imgaug<0.2.7,>=0.2.5, but you have imgaug 0.2.9 which is incompatible.\u001b[0m\n",
            "Successfully installed numpy-1.19.5\n"
          ]
        },
        {
          "output_type": "display_data",
          "data": {
            "application/vnd.colab-display-data+json": {
              "pip_warning": {
                "packages": [
                  "numpy"
                ]
              }
            }
          },
          "metadata": {}
        },
        {
          "output_type": "stream",
          "name": "stdout",
          "text": [
            "Requirement already satisfied: PyYAML==5.3.1 in /usr/local/lib/python3.7/dist-packages (5.3.1)\n",
            "Collecting git+https://github.com/cocodataset/cocoapi.git#subdirectory=PythonAPI\n",
            "  Cloning https://github.com/cocodataset/cocoapi.git to /tmp/pip-req-build-pc32fj66\n",
            "  Running command git clone -q https://github.com/cocodataset/cocoapi.git /tmp/pip-req-build-pc32fj66\n",
            "Requirement already satisfied: setuptools>=18.0 in /usr/local/lib/python3.7/dist-packages (from pycocotools==2.0) (57.4.0)\n",
            "Requirement already satisfied: cython>=0.27.3 in /usr/local/lib/python3.7/dist-packages (from pycocotools==2.0) (0.29.26)\n",
            "Requirement already satisfied: matplotlib>=2.1.0 in /usr/local/lib/python3.7/dist-packages (from pycocotools==2.0) (3.2.2)\n",
            "Requirement already satisfied: python-dateutil>=2.1 in /usr/local/lib/python3.7/dist-packages (from matplotlib>=2.1.0->pycocotools==2.0) (2.8.2)\n",
            "Requirement already satisfied: cycler>=0.10 in /usr/local/lib/python3.7/dist-packages (from matplotlib>=2.1.0->pycocotools==2.0) (0.11.0)\n",
            "Requirement already satisfied: kiwisolver>=1.0.1 in /usr/local/lib/python3.7/dist-packages (from matplotlib>=2.1.0->pycocotools==2.0) (1.3.2)\n",
            "Requirement already satisfied: numpy>=1.11 in /usr/local/lib/python3.7/dist-packages (from matplotlib>=2.1.0->pycocotools==2.0) (1.19.5)\n",
            "Requirement already satisfied: pyparsing!=2.0.4,!=2.1.2,!=2.1.6,>=2.0.1 in /usr/local/lib/python3.7/dist-packages (from matplotlib>=2.1.0->pycocotools==2.0) (3.0.6)\n",
            "Requirement already satisfied: six>=1.5 in /usr/local/lib/python3.7/dist-packages (from python-dateutil>=2.1->matplotlib>=2.1.0->pycocotools==2.0) (1.15.0)\n"
          ]
        }
      ],
      "source": [
        "# Install all required modules\n",
        "!pip install torch==1.5.1+cu101 torchvision==0.6.1+cu101 -f https://download.pytorch.org/whl/torch_stable.html\n",
        "!pip install numpy==1.19.5\n",
        "!pip install PyYAML==5.3.1\n",
        "!pip install git+https://github.com/cocodataset/cocoapi.git#subdirectory=PythonAPI"
      ]
    },
    {
      "cell_type": "code",
      "execution_count": 3,
      "metadata": {
        "colab": {
          "base_uri": "https://localhost:8080/"
        },
        "id": "7feeAqqhJM_Y",
        "outputId": "73863d14-eb84-4a50-a4ef-a9bee16fcaaf"
      },
      "outputs": [
        {
          "output_type": "stream",
          "name": "stdout",
          "text": [
            "Cloning into 'apex'...\n",
            "remote: Enumerating objects: 8879, done.\u001b[K\n",
            "remote: Counting objects: 100% (112/112), done.\u001b[K\n",
            "remote: Compressing objects: 100% (66/66), done.\u001b[K\n",
            "remote: Total 8879 (delta 64), reused 77 (delta 46), pack-reused 8767\u001b[K\n",
            "Receiving objects: 100% (8879/8879), 14.52 MiB | 28.21 MiB/s, done.\n",
            "Resolving deltas: 100% (6045/6045), done.\n",
            "/usr/local/lib/python3.7/dist-packages/pip/_internal/commands/install.py:232: UserWarning: Disabling all use of wheels due to the use of --build-option / --global-option / --install-option.\n",
            "  cmdoptions.check_install_build_global(options)\n",
            "Using pip 21.1.3 from /usr/local/lib/python3.7/dist-packages/pip (python 3.7)\n",
            "User install by explicit request\n",
            "Created temporary directory: /tmp/pip-ephem-wheel-cache-ab6n_vtk\n",
            "Created temporary directory: /tmp/pip-req-tracker-glvk9s6q\n",
            "Initialized build tracking at /tmp/pip-req-tracker-glvk9s6q\n",
            "Created build tracker: /tmp/pip-req-tracker-glvk9s6q\n",
            "Entered build tracker: /tmp/pip-req-tracker-glvk9s6q\n",
            "Created temporary directory: /tmp/pip-install-e3qzkjau\n",
            "Processing /content/apex\n",
            "  Created temporary directory: /tmp/pip-req-build-ijkmb_4s\n",
            "\u001b[33m  DEPRECATION: A future pip version will change local packages to be built in-place without first copying to a temporary directory. We recommend you use --use-feature=in-tree-build to test your packages with this new behavior before it becomes the default.\n",
            "   pip 21.3 will remove support for this functionality. You can find discussion regarding this at https://github.com/pypa/pip/issues/7555.\u001b[0m\n",
            "  Added file:///content/apex to build tracker '/tmp/pip-req-tracker-glvk9s6q'\n",
            "    Running setup.py (path:/tmp/pip-req-build-ijkmb_4s/setup.py) egg_info for package from file:///content/apex\n",
            "    Created temporary directory: /tmp/pip-pip-egg-info-vb0brqmi\n",
            "    Running command python setup.py egg_info\n",
            "\n",
            "\n",
            "    torch.__version__  = 1.5.1+cu101\n",
            "\n",
            "\n",
            "    running egg_info\n",
            "    creating /tmp/pip-pip-egg-info-vb0brqmi/apex.egg-info\n",
            "    writing /tmp/pip-pip-egg-info-vb0brqmi/apex.egg-info/PKG-INFO\n",
            "    writing dependency_links to /tmp/pip-pip-egg-info-vb0brqmi/apex.egg-info/dependency_links.txt\n",
            "    writing top-level names to /tmp/pip-pip-egg-info-vb0brqmi/apex.egg-info/top_level.txt\n",
            "    writing manifest file '/tmp/pip-pip-egg-info-vb0brqmi/apex.egg-info/SOURCES.txt'\n",
            "    adding license file 'LICENSE'\n",
            "    writing manifest file '/tmp/pip-pip-egg-info-vb0brqmi/apex.egg-info/SOURCES.txt'\n",
            "    /tmp/pip-req-build-ijkmb_4s/setup.py:107: UserWarning: Option --pyprof not specified. Not installing PyProf dependencies!\n",
            "      warnings.warn(\"Option --pyprof not specified. Not installing PyProf dependencies!\")\n",
            "  Source in /tmp/pip-req-build-ijkmb_4s has version 0.1, which satisfies requirement apex==0.1 from file:///content/apex\n",
            "  Removed apex==0.1 from file:///content/apex from build tracker '/tmp/pip-req-tracker-glvk9s6q'\n",
            "Created temporary directory: /tmp/pip-unpack-g2i5s7ma\n",
            "Skipping wheel build for apex, due to binaries being disabled for it.\n",
            "Installing collected packages: apex\n",
            "  Value for scheme.headers does not match. Please report this to <https://github.com/pypa/pip/issues/9617>\n",
            "  distutils: /root/.local/include/python3.7m/apex\n",
            "  sysconfig: /root/.local/include/python3.7/apex\n",
            "  Additional context:\n",
            "  user = True\n",
            "  home = None\n",
            "  root = None\n",
            "  prefix = None\n",
            "  Created temporary directory: /tmp/pip-record-jljmvrap\n",
            "    Running command /usr/bin/python3 -u -c 'import io, os, sys, setuptools, tokenize; sys.argv[0] = '\"'\"'/tmp/pip-req-build-ijkmb_4s/setup.py'\"'\"'; __file__='\"'\"'/tmp/pip-req-build-ijkmb_4s/setup.py'\"'\"';f = getattr(tokenize, '\"'\"'open'\"'\"', open)(__file__) if os.path.exists(__file__) else io.StringIO('\"'\"'from setuptools import setup; setup()'\"'\"');code = f.read().replace('\"'\"'\\r\\n'\"'\"', '\"'\"'\\n'\"'\"');f.close();exec(compile(code, __file__, '\"'\"'exec'\"'\"'))' --cpp_ext --cuda_ext install --record /tmp/pip-record-jljmvrap/install-record.txt --single-version-externally-managed --user --prefix= --compile --install-headers /root/.local/include/python3.7m/apex\n",
            "\n",
            "\n",
            "    torch.__version__  = 1.5.1+cu101\n",
            "\n",
            "\n",
            "    /tmp/pip-req-build-ijkmb_4s/setup.py:107: UserWarning: Option --pyprof not specified. Not installing PyProf dependencies!\n",
            "      warnings.warn(\"Option --pyprof not specified. Not installing PyProf dependencies!\")\n",
            "\n",
            "    Compiling cuda extensions with\n",
            "    nvcc: NVIDIA (R) Cuda compiler driver\n",
            "    Copyright (c) 2005-2020 NVIDIA Corporation\n",
            "    Built on Mon_Oct_12_20:09:46_PDT_2020\n",
            "    Cuda compilation tools, release 11.1, V11.1.105\n",
            "    Build cuda_11.1.TC455_06.29190527_0\n",
            "    from /usr/local/cuda/bin\n",
            "\n",
            "    Traceback (most recent call last):\n",
            "      File \"<string>\", line 1, in <module>\n",
            "      File \"/tmp/pip-req-build-ijkmb_4s/setup.py\", line 175, in <module>\n",
            "        check_cuda_torch_binary_vs_bare_metal(CUDA_HOME)\n",
            "      File \"/tmp/pip-req-build-ijkmb_4s/setup.py\", line 38, in check_cuda_torch_binary_vs_bare_metal\n",
            "        + \"In some cases, a minor-version mismatch will not cause later errors:  \"\n",
            "    RuntimeError: Cuda extensions are being compiled with a version of Cuda that does not match the version used to compile Pytorch binaries.  Pytorch binaries were compiled with Cuda 10.1.\n",
            "    In some cases, a minor-version mismatch will not cause later errors:  https://github.com/NVIDIA/apex/pull/323#discussion_r287021798.  You can try commenting out this check (at your own risk).\n",
            "    Running setup.py install for apex ... \u001b[?25l\u001b[?25herror\n",
            "\u001b[31mERROR: Command errored out with exit status 1: /usr/bin/python3 -u -c 'import io, os, sys, setuptools, tokenize; sys.argv[0] = '\"'\"'/tmp/pip-req-build-ijkmb_4s/setup.py'\"'\"'; __file__='\"'\"'/tmp/pip-req-build-ijkmb_4s/setup.py'\"'\"';f = getattr(tokenize, '\"'\"'open'\"'\"', open)(__file__) if os.path.exists(__file__) else io.StringIO('\"'\"'from setuptools import setup; setup()'\"'\"');code = f.read().replace('\"'\"'\\r\\n'\"'\"', '\"'\"'\\n'\"'\"');f.close();exec(compile(code, __file__, '\"'\"'exec'\"'\"'))' --cpp_ext --cuda_ext install --record /tmp/pip-record-jljmvrap/install-record.txt --single-version-externally-managed --user --prefix= --compile --install-headers /root/.local/include/python3.7m/apex Check the logs for full command output.\u001b[0m\n",
            "Exception information:\n",
            "Traceback (most recent call last):\n",
            "  File \"/usr/local/lib/python3.7/dist-packages/pip/_internal/req/req_install.py\", line 825, in install\n",
            "    req_description=str(self.req),\n",
            "  File \"/usr/local/lib/python3.7/dist-packages/pip/_internal/operations/install/legacy.py\", line 81, in install\n",
            "    raise LegacyInstallFailure\n",
            "pip._internal.operations.install.legacy.LegacyInstallFailure\n",
            "\n",
            "During handling of the above exception, another exception occurred:\n",
            "\n",
            "Traceback (most recent call last):\n",
            "  File \"/usr/local/lib/python3.7/dist-packages/pip/_internal/cli/base_command.py\", line 180, in _main\n",
            "    status = self.run(options, args)\n",
            "  File \"/usr/local/lib/python3.7/dist-packages/pip/_internal/cli/req_command.py\", line 199, in wrapper\n",
            "    return func(self, options, args)\n",
            "  File \"/usr/local/lib/python3.7/dist-packages/pip/_internal/commands/install.py\", line 402, in run\n",
            "    pycompile=options.compile,\n",
            "  File \"/usr/local/lib/python3.7/dist-packages/pip/_internal/req/__init__.py\", line 85, in install_given_reqs\n",
            "    pycompile=pycompile,\n",
            "  File \"/usr/local/lib/python3.7/dist-packages/pip/_internal/req/req_install.py\", line 829, in install\n",
            "    six.reraise(*exc.parent)\n",
            "  File \"/usr/local/lib/python3.7/dist-packages/pip/_vendor/six.py\", line 703, in reraise\n",
            "    raise value\n",
            "  File \"/usr/local/lib/python3.7/dist-packages/pip/_internal/operations/install/legacy.py\", line 71, in install\n",
            "    cwd=unpacked_source_directory,\n",
            "  File \"/usr/local/lib/python3.7/dist-packages/pip/_internal/utils/subprocess.py\", line 278, in runner\n",
            "    spinner=spinner,\n",
            "  File \"/usr/local/lib/python3.7/dist-packages/pip/_internal/utils/subprocess.py\", line 244, in call_subprocess\n",
            "    raise InstallationSubprocessError(proc.returncode, command_desc)\n",
            "pip._internal.exceptions.InstallationSubprocessError: Command errored out with exit status 1: /usr/bin/python3 -u -c 'import io, os, sys, setuptools, tokenize; sys.argv[0] = '\"'\"'/tmp/pip-req-build-ijkmb_4s/setup.py'\"'\"'; __file__='\"'\"'/tmp/pip-req-build-ijkmb_4s/setup.py'\"'\"';f = getattr(tokenize, '\"'\"'open'\"'\"', open)(__file__) if os.path.exists(__file__) else io.StringIO('\"'\"'from setuptools import setup; setup()'\"'\"');code = f.read().replace('\"'\"'\\r\\n'\"'\"', '\"'\"'\\n'\"'\"');f.close();exec(compile(code, __file__, '\"'\"'exec'\"'\"'))' --cpp_ext --cuda_ext install --record /tmp/pip-record-jljmvrap/install-record.txt --single-version-externally-managed --user --prefix= --compile --install-headers /root/.local/include/python3.7m/apex Check the logs for full command output.\n",
            "Removed build tracker: '/tmp/pip-req-tracker-glvk9s6q'\n"
          ]
        }
      ],
      "source": [
        "# Optain libraries for pytorch\n",
        "!git clone https://github.com/NVIDIA/apex && cd apex && pip install -v --no-cache-dir --global-option=\"--cpp_ext\" --global-option=\"--cuda_ext\" . --user && cd .. && rm -rf apex"
      ]
    },
    {
      "cell_type": "code",
      "execution_count": 2,
      "metadata": {
        "id": "6HfRupLVJe_Y"
      },
      "outputs": [],
      "source": [
        "# Import modules\n",
        "\n",
        "from pathlib import Path\n",
        "from tqdm import tqdm\n",
        "import numpy as np\n",
        "import json\n",
        "import urllib\n",
        "import PIL.Image as Image\n",
        "import cv2\n",
        "import torch\n",
        "import torchvision\n",
        "from IPython.display import display\n",
        "from sklearn.model_selection import train_test_split\n",
        "import seaborn as sns\n",
        "from pylab import rcParams\n",
        "import matplotlib.pyplot as plt\n",
        "from matplotlib import rc\n",
        "import pandas as pd\n",
        "import json\n",
        "import ast\n",
        "import os\n",
        "import re"
      ]
    },
    {
      "cell_type": "code",
      "execution_count": 62,
      "metadata": {
        "id": "TRo7rtUjYS_S"
      },
      "outputs": [],
      "source": [
        "# Load csv dataframe\n",
        "bankreports = pd.read_csv(\"/content/gdrive/MyDrive/Liberia_bank/via_project_7Jan2022_14h36m_csv.csv\")"
      ]
    },
    {
      "cell_type": "code",
      "execution_count": 63,
      "metadata": {
        "colab": {
          "base_uri": "https://localhost:8080/",
          "height": 921
        },
        "id": "gB0Do7WFKhYu",
        "outputId": "3961b198-0ee8-447f-8b10-66ac5aa3453d"
      },
      "outputs": [
        {
          "output_type": "execute_result",
          "data": {
            "text/html": [
              "\n",
              "  <div id=\"df-37262138-f86e-4d2b-be59-328e1ce7c6e9\">\n",
              "    <div class=\"colab-df-container\">\n",
              "      <div>\n",
              "<style scoped>\n",
              "    .dataframe tbody tr th:only-of-type {\n",
              "        vertical-align: middle;\n",
              "    }\n",
              "\n",
              "    .dataframe tbody tr th {\n",
              "        vertical-align: top;\n",
              "    }\n",
              "\n",
              "    .dataframe thead th {\n",
              "        text-align: right;\n",
              "    }\n",
              "</style>\n",
              "<table border=\"1\" class=\"dataframe\">\n",
              "  <thead>\n",
              "    <tr style=\"text-align: right;\">\n",
              "      <th></th>\n",
              "      <th>filename</th>\n",
              "      <th>file_size</th>\n",
              "      <th>file_attributes</th>\n",
              "      <th>region_count</th>\n",
              "      <th>region_id</th>\n",
              "      <th>region_shape_attributes</th>\n",
              "      <th>region_attributes</th>\n",
              "    </tr>\n",
              "  </thead>\n",
              "  <tbody>\n",
              "    <tr>\n",
              "      <th>0</th>\n",
              "      <td>1-2.jpg</td>\n",
              "      <td>144789</td>\n",
              "      <td>{}</td>\n",
              "      <td>2</td>\n",
              "      <td>0</td>\n",
              "      <td>{\"name\":\"rect\",\"x\":20,\"y\":136,\"width\":200,\"hei...</td>\n",
              "      <td>{}</td>\n",
              "    </tr>\n",
              "    <tr>\n",
              "      <th>1</th>\n",
              "      <td>1-2.jpg</td>\n",
              "      <td>144789</td>\n",
              "      <td>{}</td>\n",
              "      <td>2</td>\n",
              "      <td>1</td>\n",
              "      <td>{\"name\":\"rect\",\"x\":276,\"y\":39,\"width\":201,\"hei...</td>\n",
              "      <td>{}</td>\n",
              "    </tr>\n",
              "    <tr>\n",
              "      <th>2</th>\n",
              "      <td>1-2-pages.jpg</td>\n",
              "      <td>120719</td>\n",
              "      <td>{}</td>\n",
              "      <td>2</td>\n",
              "      <td>0</td>\n",
              "      <td>{\"name\":\"rect\",\"x\":14,\"y\":200,\"width\":220,\"hei...</td>\n",
              "      <td>{}</td>\n",
              "    </tr>\n",
              "    <tr>\n",
              "      <th>3</th>\n",
              "      <td>1-2-pages.jpg</td>\n",
              "      <td>120719</td>\n",
              "      <td>{}</td>\n",
              "      <td>2</td>\n",
              "      <td>1</td>\n",
              "      <td>{\"name\":\"rect\",\"x\":15,\"y\":107,\"width\":219,\"hei...</td>\n",
              "      <td>{}</td>\n",
              "    </tr>\n",
              "    <tr>\n",
              "      <th>4</th>\n",
              "      <td>Addiko-bank-st.jpg</td>\n",
              "      <td>187754</td>\n",
              "      <td>{}</td>\n",
              "      <td>2</td>\n",
              "      <td>0</td>\n",
              "      <td>{\"name\":\"rect\",\"x\":36,\"y\":377,\"width\":393,\"hei...</td>\n",
              "      <td>{}</td>\n",
              "    </tr>\n",
              "    <tr>\n",
              "      <th>...</th>\n",
              "      <td>...</td>\n",
              "      <td>...</td>\n",
              "      <td>...</td>\n",
              "      <td>...</td>\n",
              "      <td>...</td>\n",
              "      <td>...</td>\n",
              "      <td>...</td>\n",
              "    </tr>\n",
              "    <tr>\n",
              "      <th>1586</th>\n",
              "      <td>Yemen-Gulf-bank-statement-template-Word-and-PD...</td>\n",
              "      <td>147935</td>\n",
              "      <td>{}</td>\n",
              "      <td>2</td>\n",
              "      <td>1</td>\n",
              "      <td>{\"name\":\"rect\",\"x\":49,\"y\":359,\"width\":373,\"hei...</td>\n",
              "      <td>{}</td>\n",
              "    </tr>\n",
              "    <tr>\n",
              "      <th>1587</th>\n",
              "      <td>Yemen-Gulf-Bank-statement-template-in-Excel-an...</td>\n",
              "      <td>172033</td>\n",
              "      <td>{}</td>\n",
              "      <td>2</td>\n",
              "      <td>0</td>\n",
              "      <td>{\"name\":\"rect\",\"x\":31,\"y\":274,\"width\":405,\"hei...</td>\n",
              "      <td>{}</td>\n",
              "    </tr>\n",
              "    <tr>\n",
              "      <th>1588</th>\n",
              "      <td>Yemen-Gulf-Bank-statement-template-in-Excel-an...</td>\n",
              "      <td>172033</td>\n",
              "      <td>{}</td>\n",
              "      <td>2</td>\n",
              "      <td>1</td>\n",
              "      <td>{\"name\":\"rect\",\"x\":31,\"y\":405,\"width\":404,\"hei...</td>\n",
              "      <td>{}</td>\n",
              "    </tr>\n",
              "    <tr>\n",
              "      <th>1589</th>\n",
              "      <td>Yemen-International-bank-of-Yemen-proof-of-add...</td>\n",
              "      <td>208654</td>\n",
              "      <td>{}</td>\n",
              "      <td>1</td>\n",
              "      <td>0</td>\n",
              "      <td>{\"name\":\"rect\",\"x\":52,\"y\":222,\"width\":370,\"hei...</td>\n",
              "      <td>{}</td>\n",
              "    </tr>\n",
              "    <tr>\n",
              "      <th>1590</th>\n",
              "      <td>Yemen-International-bank-statement-template-in...</td>\n",
              "      <td>160780</td>\n",
              "      <td>{}</td>\n",
              "      <td>1</td>\n",
              "      <td>0</td>\n",
              "      <td>{\"name\":\"rect\",\"x\":26,\"y\":200,\"width\":384,\"hei...</td>\n",
              "      <td>{}</td>\n",
              "    </tr>\n",
              "  </tbody>\n",
              "</table>\n",
              "<p>1591 rows × 7 columns</p>\n",
              "</div>\n",
              "      <button class=\"colab-df-convert\" onclick=\"convertToInteractive('df-37262138-f86e-4d2b-be59-328e1ce7c6e9')\"\n",
              "              title=\"Convert this dataframe to an interactive table.\"\n",
              "              style=\"display:none;\">\n",
              "        \n",
              "  <svg xmlns=\"http://www.w3.org/2000/svg\" height=\"24px\"viewBox=\"0 0 24 24\"\n",
              "       width=\"24px\">\n",
              "    <path d=\"M0 0h24v24H0V0z\" fill=\"none\"/>\n",
              "    <path d=\"M18.56 5.44l.94 2.06.94-2.06 2.06-.94-2.06-.94-.94-2.06-.94 2.06-2.06.94zm-11 1L8.5 8.5l.94-2.06 2.06-.94-2.06-.94L8.5 2.5l-.94 2.06-2.06.94zm10 10l.94 2.06.94-2.06 2.06-.94-2.06-.94-.94-2.06-.94 2.06-2.06.94z\"/><path d=\"M17.41 7.96l-1.37-1.37c-.4-.4-.92-.59-1.43-.59-.52 0-1.04.2-1.43.59L10.3 9.45l-7.72 7.72c-.78.78-.78 2.05 0 2.83L4 21.41c.39.39.9.59 1.41.59.51 0 1.02-.2 1.41-.59l7.78-7.78 2.81-2.81c.8-.78.8-2.07 0-2.86zM5.41 20L4 18.59l7.72-7.72 1.47 1.35L5.41 20z\"/>\n",
              "  </svg>\n",
              "      </button>\n",
              "      \n",
              "  <style>\n",
              "    .colab-df-container {\n",
              "      display:flex;\n",
              "      flex-wrap:wrap;\n",
              "      gap: 12px;\n",
              "    }\n",
              "\n",
              "    .colab-df-convert {\n",
              "      background-color: #E8F0FE;\n",
              "      border: none;\n",
              "      border-radius: 50%;\n",
              "      cursor: pointer;\n",
              "      display: none;\n",
              "      fill: #1967D2;\n",
              "      height: 32px;\n",
              "      padding: 0 0 0 0;\n",
              "      width: 32px;\n",
              "    }\n",
              "\n",
              "    .colab-df-convert:hover {\n",
              "      background-color: #E2EBFA;\n",
              "      box-shadow: 0px 1px 2px rgba(60, 64, 67, 0.3), 0px 1px 3px 1px rgba(60, 64, 67, 0.15);\n",
              "      fill: #174EA6;\n",
              "    }\n",
              "\n",
              "    [theme=dark] .colab-df-convert {\n",
              "      background-color: #3B4455;\n",
              "      fill: #D2E3FC;\n",
              "    }\n",
              "\n",
              "    [theme=dark] .colab-df-convert:hover {\n",
              "      background-color: #434B5C;\n",
              "      box-shadow: 0px 1px 3px 1px rgba(0, 0, 0, 0.15);\n",
              "      filter: drop-shadow(0px 1px 2px rgba(0, 0, 0, 0.3));\n",
              "      fill: #FFFFFF;\n",
              "    }\n",
              "  </style>\n",
              "\n",
              "      <script>\n",
              "        const buttonEl =\n",
              "          document.querySelector('#df-37262138-f86e-4d2b-be59-328e1ce7c6e9 button.colab-df-convert');\n",
              "        buttonEl.style.display =\n",
              "          google.colab.kernel.accessAllowed ? 'block' : 'none';\n",
              "\n",
              "        async function convertToInteractive(key) {\n",
              "          const element = document.querySelector('#df-37262138-f86e-4d2b-be59-328e1ce7c6e9');\n",
              "          const dataTable =\n",
              "            await google.colab.kernel.invokeFunction('convertToInteractive',\n",
              "                                                     [key], {});\n",
              "          if (!dataTable) return;\n",
              "\n",
              "          const docLinkHtml = 'Like what you see? Visit the ' +\n",
              "            '<a target=\"_blank\" href=https://colab.research.google.com/notebooks/data_table.ipynb>data table notebook</a>'\n",
              "            + ' to learn more about interactive tables.';\n",
              "          element.innerHTML = '';\n",
              "          dataTable['output_type'] = 'display_data';\n",
              "          await google.colab.output.renderOutput(dataTable, element);\n",
              "          const docLink = document.createElement('div');\n",
              "          docLink.innerHTML = docLinkHtml;\n",
              "          element.appendChild(docLink);\n",
              "        }\n",
              "      </script>\n",
              "    </div>\n",
              "  </div>\n",
              "  "
            ],
            "text/plain": [
              "                                               filename  ...  region_attributes\n",
              "0                                               1-2.jpg  ...                 {}\n",
              "1                                               1-2.jpg  ...                 {}\n",
              "2                                         1-2-pages.jpg  ...                 {}\n",
              "3                                         1-2-pages.jpg  ...                 {}\n",
              "4                                    Addiko-bank-st.jpg  ...                 {}\n",
              "...                                                 ...  ...                ...\n",
              "1586  Yemen-Gulf-bank-statement-template-Word-and-PD...  ...                 {}\n",
              "1587  Yemen-Gulf-Bank-statement-template-in-Excel-an...  ...                 {}\n",
              "1588  Yemen-Gulf-Bank-statement-template-in-Excel-an...  ...                 {}\n",
              "1589  Yemen-International-bank-of-Yemen-proof-of-add...  ...                 {}\n",
              "1590  Yemen-International-bank-statement-template-in...  ...                 {}\n",
              "\n",
              "[1591 rows x 7 columns]"
            ]
          },
          "metadata": {},
          "execution_count": 63
        }
      ],
      "source": [
        "bankreports"
      ]
    },
    {
      "cell_type": "code",
      "execution_count": 64,
      "metadata": {
        "colab": {
          "base_uri": "https://localhost:8080/",
          "height": 35
        },
        "id": "PKLS-E9FZfq9",
        "outputId": "16242416-8ccf-405b-967a-7dccf64c2b2b"
      },
      "outputs": [
        {
          "output_type": "execute_result",
          "data": {
            "application/vnd.google.colaboratory.intrinsic+json": {
              "type": "string"
            },
            "text/plain": [
              "'{\"name\":\"rect\",\"x\":276,\"y\":39,\"width\":201,\"height\":295}'"
            ]
          },
          "metadata": {},
          "execution_count": 64
        }
      ],
      "source": [
        "# Check the region_shape_attributes column\n",
        "bankreports.region_shape_attributes[1]"
      ]
    },
    {
      "cell_type": "code",
      "execution_count": 65,
      "metadata": {
        "id": "mCKbCn7KLOev"
      },
      "outputs": [],
      "source": [
        "# Seperate the region_shape_attributes into different columns\n",
        "df = pd.json_normalize(bankreports.region_shape_attributes.apply(ast.literal_eval))"
      ]
    },
    {
      "cell_type": "code",
      "execution_count": 66,
      "metadata": {
        "id": "t3e1XPHqnVA8"
      },
      "outputs": [],
      "source": [
        "# Join the newly created columns to the dataframe\n",
        "bankreports = bankreports.join(df)"
      ]
    },
    {
      "cell_type": "code",
      "execution_count": 67,
      "metadata": {
        "colab": {
          "base_uri": "https://localhost:8080/",
          "height": 339
        },
        "id": "MXQ-Z1Innlqh",
        "outputId": "fcc0a2f3-472c-4b78-b66c-40d30407b742"
      },
      "outputs": [
        {
          "output_type": "execute_result",
          "data": {
            "text/html": [
              "\n",
              "  <div id=\"df-96c5547d-94a4-4fd6-af89-04e9f0ebb5ec\">\n",
              "    <div class=\"colab-df-container\">\n",
              "      <div>\n",
              "<style scoped>\n",
              "    .dataframe tbody tr th:only-of-type {\n",
              "        vertical-align: middle;\n",
              "    }\n",
              "\n",
              "    .dataframe tbody tr th {\n",
              "        vertical-align: top;\n",
              "    }\n",
              "\n",
              "    .dataframe thead th {\n",
              "        text-align: right;\n",
              "    }\n",
              "</style>\n",
              "<table border=\"1\" class=\"dataframe\">\n",
              "  <thead>\n",
              "    <tr style=\"text-align: right;\">\n",
              "      <th></th>\n",
              "      <th>filename</th>\n",
              "      <th>file_size</th>\n",
              "      <th>file_attributes</th>\n",
              "      <th>region_count</th>\n",
              "      <th>region_id</th>\n",
              "      <th>region_shape_attributes</th>\n",
              "      <th>region_attributes</th>\n",
              "      <th>name</th>\n",
              "      <th>x</th>\n",
              "      <th>y</th>\n",
              "      <th>width</th>\n",
              "      <th>height</th>\n",
              "    </tr>\n",
              "  </thead>\n",
              "  <tbody>\n",
              "    <tr>\n",
              "      <th>0</th>\n",
              "      <td>1-2.jpg</td>\n",
              "      <td>144789</td>\n",
              "      <td>{}</td>\n",
              "      <td>2</td>\n",
              "      <td>0</td>\n",
              "      <td>{\"name\":\"rect\",\"x\":20,\"y\":136,\"width\":200,\"hei...</td>\n",
              "      <td>{}</td>\n",
              "      <td>rect</td>\n",
              "      <td>20</td>\n",
              "      <td>136</td>\n",
              "      <td>200</td>\n",
              "      <td>200</td>\n",
              "    </tr>\n",
              "    <tr>\n",
              "      <th>1</th>\n",
              "      <td>1-2.jpg</td>\n",
              "      <td>144789</td>\n",
              "      <td>{}</td>\n",
              "      <td>2</td>\n",
              "      <td>1</td>\n",
              "      <td>{\"name\":\"rect\",\"x\":276,\"y\":39,\"width\":201,\"hei...</td>\n",
              "      <td>{}</td>\n",
              "      <td>rect</td>\n",
              "      <td>276</td>\n",
              "      <td>39</td>\n",
              "      <td>201</td>\n",
              "      <td>295</td>\n",
              "    </tr>\n",
              "    <tr>\n",
              "      <th>2</th>\n",
              "      <td>1-2-pages.jpg</td>\n",
              "      <td>120719</td>\n",
              "      <td>{}</td>\n",
              "      <td>2</td>\n",
              "      <td>0</td>\n",
              "      <td>{\"name\":\"rect\",\"x\":14,\"y\":200,\"width\":220,\"hei...</td>\n",
              "      <td>{}</td>\n",
              "      <td>rect</td>\n",
              "      <td>14</td>\n",
              "      <td>200</td>\n",
              "      <td>220</td>\n",
              "      <td>121</td>\n",
              "    </tr>\n",
              "    <tr>\n",
              "      <th>3</th>\n",
              "      <td>1-2-pages.jpg</td>\n",
              "      <td>120719</td>\n",
              "      <td>{}</td>\n",
              "      <td>2</td>\n",
              "      <td>1</td>\n",
              "      <td>{\"name\":\"rect\",\"x\":15,\"y\":107,\"width\":219,\"hei...</td>\n",
              "      <td>{}</td>\n",
              "      <td>rect</td>\n",
              "      <td>15</td>\n",
              "      <td>107</td>\n",
              "      <td>219</td>\n",
              "      <td>27</td>\n",
              "    </tr>\n",
              "    <tr>\n",
              "      <th>4</th>\n",
              "      <td>Addiko-bank-st.jpg</td>\n",
              "      <td>187754</td>\n",
              "      <td>{}</td>\n",
              "      <td>2</td>\n",
              "      <td>0</td>\n",
              "      <td>{\"name\":\"rect\",\"x\":36,\"y\":377,\"width\":393,\"hei...</td>\n",
              "      <td>{}</td>\n",
              "      <td>rect</td>\n",
              "      <td>36</td>\n",
              "      <td>377</td>\n",
              "      <td>393</td>\n",
              "      <td>128</td>\n",
              "    </tr>\n",
              "  </tbody>\n",
              "</table>\n",
              "</div>\n",
              "      <button class=\"colab-df-convert\" onclick=\"convertToInteractive('df-96c5547d-94a4-4fd6-af89-04e9f0ebb5ec')\"\n",
              "              title=\"Convert this dataframe to an interactive table.\"\n",
              "              style=\"display:none;\">\n",
              "        \n",
              "  <svg xmlns=\"http://www.w3.org/2000/svg\" height=\"24px\"viewBox=\"0 0 24 24\"\n",
              "       width=\"24px\">\n",
              "    <path d=\"M0 0h24v24H0V0z\" fill=\"none\"/>\n",
              "    <path d=\"M18.56 5.44l.94 2.06.94-2.06 2.06-.94-2.06-.94-.94-2.06-.94 2.06-2.06.94zm-11 1L8.5 8.5l.94-2.06 2.06-.94-2.06-.94L8.5 2.5l-.94 2.06-2.06.94zm10 10l.94 2.06.94-2.06 2.06-.94-2.06-.94-.94-2.06-.94 2.06-2.06.94z\"/><path d=\"M17.41 7.96l-1.37-1.37c-.4-.4-.92-.59-1.43-.59-.52 0-1.04.2-1.43.59L10.3 9.45l-7.72 7.72c-.78.78-.78 2.05 0 2.83L4 21.41c.39.39.9.59 1.41.59.51 0 1.02-.2 1.41-.59l7.78-7.78 2.81-2.81c.8-.78.8-2.07 0-2.86zM5.41 20L4 18.59l7.72-7.72 1.47 1.35L5.41 20z\"/>\n",
              "  </svg>\n",
              "      </button>\n",
              "      \n",
              "  <style>\n",
              "    .colab-df-container {\n",
              "      display:flex;\n",
              "      flex-wrap:wrap;\n",
              "      gap: 12px;\n",
              "    }\n",
              "\n",
              "    .colab-df-convert {\n",
              "      background-color: #E8F0FE;\n",
              "      border: none;\n",
              "      border-radius: 50%;\n",
              "      cursor: pointer;\n",
              "      display: none;\n",
              "      fill: #1967D2;\n",
              "      height: 32px;\n",
              "      padding: 0 0 0 0;\n",
              "      width: 32px;\n",
              "    }\n",
              "\n",
              "    .colab-df-convert:hover {\n",
              "      background-color: #E2EBFA;\n",
              "      box-shadow: 0px 1px 2px rgba(60, 64, 67, 0.3), 0px 1px 3px 1px rgba(60, 64, 67, 0.15);\n",
              "      fill: #174EA6;\n",
              "    }\n",
              "\n",
              "    [theme=dark] .colab-df-convert {\n",
              "      background-color: #3B4455;\n",
              "      fill: #D2E3FC;\n",
              "    }\n",
              "\n",
              "    [theme=dark] .colab-df-convert:hover {\n",
              "      background-color: #434B5C;\n",
              "      box-shadow: 0px 1px 3px 1px rgba(0, 0, 0, 0.15);\n",
              "      filter: drop-shadow(0px 1px 2px rgba(0, 0, 0, 0.3));\n",
              "      fill: #FFFFFF;\n",
              "    }\n",
              "  </style>\n",
              "\n",
              "      <script>\n",
              "        const buttonEl =\n",
              "          document.querySelector('#df-96c5547d-94a4-4fd6-af89-04e9f0ebb5ec button.colab-df-convert');\n",
              "        buttonEl.style.display =\n",
              "          google.colab.kernel.accessAllowed ? 'block' : 'none';\n",
              "\n",
              "        async function convertToInteractive(key) {\n",
              "          const element = document.querySelector('#df-96c5547d-94a4-4fd6-af89-04e9f0ebb5ec');\n",
              "          const dataTable =\n",
              "            await google.colab.kernel.invokeFunction('convertToInteractive',\n",
              "                                                     [key], {});\n",
              "          if (!dataTable) return;\n",
              "\n",
              "          const docLinkHtml = 'Like what you see? Visit the ' +\n",
              "            '<a target=\"_blank\" href=https://colab.research.google.com/notebooks/data_table.ipynb>data table notebook</a>'\n",
              "            + ' to learn more about interactive tables.';\n",
              "          element.innerHTML = '';\n",
              "          dataTable['output_type'] = 'display_data';\n",
              "          await google.colab.output.renderOutput(dataTable, element);\n",
              "          const docLink = document.createElement('div');\n",
              "          docLink.innerHTML = docLinkHtml;\n",
              "          element.appendChild(docLink);\n",
              "        }\n",
              "      </script>\n",
              "    </div>\n",
              "  </div>\n",
              "  "
            ],
            "text/plain": [
              "             filename  file_size file_attributes  ...    y  width height\n",
              "0             1-2.jpg     144789              {}  ...  136    200    200\n",
              "1             1-2.jpg     144789              {}  ...   39    201    295\n",
              "2       1-2-pages.jpg     120719              {}  ...  200    220    121\n",
              "3       1-2-pages.jpg     120719              {}  ...  107    219     27\n",
              "4  Addiko-bank-st.jpg     187754              {}  ...  377    393    128\n",
              "\n",
              "[5 rows x 12 columns]"
            ]
          },
          "metadata": {},
          "execution_count": 67
        }
      ],
      "source": [
        "bankreports.head()"
      ]
    },
    {
      "cell_type": "code",
      "execution_count": 68,
      "metadata": {
        "colab": {
          "base_uri": "https://localhost:8080/"
        },
        "id": "Rp4OEVSabQtA",
        "outputId": "4d8f9cd6-147e-4f03-98e7-e573e36aca25"
      },
      "outputs": [
        {
          "output_type": "execute_result",
          "data": {
            "text/plain": [
              "str"
            ]
          },
          "metadata": {},
          "execution_count": 68
        }
      ],
      "source": [
        "type(bankreports.filename[27])"
      ]
    },
    {
      "cell_type": "code",
      "execution_count": 70,
      "metadata": {
        "colab": {
          "base_uri": "https://localhost:8080/"
        },
        "id": "3fF8E_OLMMJg",
        "outputId": "4e7a4016-5e0a-446e-b14a-a9c9a1ac9309"
      },
      "outputs": [
        {
          "output_type": "execute_result",
          "data": {
            "text/plain": [
              "(846, 94)"
            ]
          },
          "metadata": {},
          "execution_count": 70
        }
      ],
      "source": [
        "# Split the image files into train and validation samples, training sample being 90%\n",
        "train_reports, val_reports = train_test_split(list(bankreports['filename'].drop_duplicates()), test_size=0.1)\n",
        "len(train_reports), len(val_reports)"
      ]
    },
    {
      "cell_type": "code",
      "execution_count": 72,
      "metadata": {
        "id": "4cAfTYOvUnn8"
      },
      "outputs": [],
      "source": [
        "# Define a function that creaets the dataset with\n",
        "# the following images and text annotation files.\n",
        "\n",
        "def create_dataset(reports, dataset_type):\n",
        "  images_path = Path(f\"content/gdrive/MyDrive/Liberia_bank/reports/images/{dataset_type}\")\n",
        "  images_path.mkdir(parents=True, exist_ok=True) # path and folder for image file\n",
        "\n",
        "  labels_path = Path(f\"content/gdrive/MyDrive/Liberia_bank/reports/labels/{dataset_type}\")\n",
        "  labels_path.mkdir(parents=True, exist_ok=True) # path and folder for annoation files\n",
        "\n",
        "  for item in reports:\n",
        "    #iterate over rows in the dataframe\n",
        "    #try:    \n",
        "      abs_path = os.path.join(\"/content/gdrive/MyDrive/Liberia_bank/bankreport_images\", item) #create path\n",
        "            \n",
        "  # Open the image files and save them in the corresponding folders\n",
        "      img = Image.open(abs_path)\n",
        "      img = img.convert(\"RGB\")\n",
        "      img.save(str(images_path / item), \"JPEG\")\n",
        "      label_name = item.replace('.jpg',\".txt\" )\n",
        "      with (labels_path / label_name).open(\"w\") as label_file:\n",
        "        for idx, col in bankreports.iterrows():\n",
        "          if item == col[0]:\n",
        "         # Open a text file with the annotation coordinates\n",
        "            x = bankreports.iloc[idx][\"x\"]\n",
        "            y = bankreports.iloc[idx][\"y\"]\n",
        "            width = bankreports.iloc[idx][\"width\"]\n",
        "            height = bankreports.iloc[idx][\"height\"]\n",
        "\n",
        "          # Write the annotation coordinates into a text file\n",
        "            label_file.write(f\"0 {x + width / 2} {y + height / 2} {width} {height}\\n\")\n",
        "            \n",
        "    #except: # accept the error and continue\n",
        "      #continue\n"
      ]
    },
    {
      "cell_type": "code",
      "execution_count": 73,
      "metadata": {
        "id": "ZAAjSeNH3vO3"
      },
      "outputs": [],
      "source": [
        "create_dataset(train_reports, 'train')\n",
        "create_dataset(val_reports, 'val')"
      ]
    },
    {
      "cell_type": "code",
      "execution_count": 74,
      "metadata": {
        "colab": {
          "base_uri": "https://localhost:8080/"
        },
        "id": "FmeIV3-NDSsz",
        "outputId": "1ccf92ca-2737-4792-810b-91890338e0ae"
      },
      "outputs": [
        {
          "output_type": "stream",
          "name": "stdout",
          "text": [
            "Cloning into 'yolov5'...\n",
            "remote: Enumerating objects: 10649, done.\u001b[K\n",
            "remote: Total 10649 (delta 0), reused 0 (delta 0), pack-reused 10649\u001b[K\n",
            "Receiving objects: 100% (10649/10649), 10.85 MiB | 32.59 MiB/s, done.\n",
            "Resolving deltas: 100% (7354/7354), done.\n",
            "/content/yolov5\n",
            "Note: checking out 'ec72eea62bf5bb86b0272f2e65e413957533507f'.\n",
            "\n",
            "You are in 'detached HEAD' state. You can look around, make experimental\n",
            "changes and commit them, and you can discard any commits you make in this\n",
            "state without impacting any branches by performing another checkout.\n",
            "\n",
            "If you want to create a new branch to retain commits you create, you may\n",
            "do so (now or later) by using -b with the checkout command again. Example:\n",
            "\n",
            "  git checkout -b <new-branch-name>\n",
            "\n",
            "HEAD is now at ec72eea Merge remote-tracking branch 'origin/master'\n"
          ]
        }
      ],
      "source": [
        "# Get some specifications for Yolo\n",
        "!git clone https://github.com/ultralytics/yolov5\n",
        "%cd yolov5\n",
        "!git checkout ec72eea62bf5bb86b0272f2e65e413957533507f"
      ]
    },
    {
      "cell_type": "code",
      "execution_count": 75,
      "metadata": {
        "colab": {
          "base_uri": "https://localhost:8080/"
        },
        "id": "NhmVFNfxDvSx",
        "outputId": "6a95f42f-9ff5-469f-fd39-11894af8237a"
      },
      "outputs": [
        {
          "output_type": "stream",
          "name": "stdout",
          "text": [
            "Downloading...\n",
            "From: https://drive.google.com/uc?id=1ZycPS5Ft_0vlfgHnLsfvZPhcH6qOAqBO\n",
            "To: /content/yolov5/data/clothing.yaml\n",
            "100% 172/172 [00:00<00:00, 80.3kB/s]\n",
            "Downloading...\n",
            "From: https://drive.google.com/uc?id=1czESPsKbOWZF7_PkCcvRfTiUUJfpx12i\n",
            "To: /content/yolov5/models/yolov5x.yaml\n",
            "100% 1.58k/1.58k [00:00<00:00, 1.39MB/s]\n"
          ]
        }
      ],
      "source": [
        "# Configurating Yolo\n",
        "!gdown --id 1ZycPS5Ft_0vlfgHnLsfvZPhcH6qOAqBO -O data/clothing.yaml\n",
        "!gdown --id 1czESPsKbOWZF7_PkCcvRfTiUUJfpx12i -O models/yolov5x.yaml"
      ]
    },
    {
      "cell_type": "code",
      "execution_count": 77,
      "metadata": {
        "colab": {
          "base_uri": "https://localhost:8080/"
        },
        "id": "vCJEn46wszax",
        "outputId": "eb4bc653-5c32-4ce3-f3f9-02a4a7e718b7"
      },
      "outputs": [
        {
          "output_type": "stream",
          "name": "stdout",
          "text": [
            "Apex recommended for faster mixed precision training: https://github.com/NVIDIA/apex\n",
            "{'lr0': 0.01, 'momentum': 0.937, 'weight_decay': 0.0005, 'giou': 0.05, 'cls': 0.58, 'cls_pw': 1.0, 'obj': 1.0, 'obj_pw': 1.0, 'iou_t': 0.2, 'anchor_t': 4.0, 'fl_gamma': 0.0, 'hsv_h': 0.014, 'hsv_s': 0.68, 'hsv_v': 0.36, 'degrees': 0.0, 'translate': 0.0, 'scale': 0.5, 'shear': 0.0}\n",
            "Namespace(adam=False, batch_size=4, bucket='', cache_images=True, cfg='./models/yolov5x.yaml', data='./data/clothing.yaml', device='', epochs=30, evolve=False, img_size=[640], multi_scale=False, name='yolov5x_clothing', noautoanchor=False, nosave=False, notest=False, rect=False, resume=False, single_cls=False, weights='yolov5x.pt')\n",
            "Using CUDA device0 _CudaDeviceProperties(name='Tesla P100-PCIE-16GB', total_memory=16280MB)\n",
            "\n",
            "Start Tensorboard with \"tensorboard --logdir=runs\", view at http://localhost:6006/\n",
            "\n",
            "              from  n    params  module                                  arguments                     \n",
            "  0             -1  1      8800  models.common.Focus                     [3, 80, 3]                    \n",
            "  1             -1  1    115520  models.common.Conv                      [80, 160, 3, 2]               \n",
            "  2             -1  1    315680  models.common.BottleneckCSP             [160, 160, 4]                 \n",
            "  3             -1  1    461440  models.common.Conv                      [160, 320, 3, 2]              \n",
            "  4             -1  1   3311680  models.common.BottleneckCSP             [320, 320, 12]                \n",
            "  5             -1  1   1844480  models.common.Conv                      [320, 640, 3, 2]              \n",
            "  6             -1  1  13228160  models.common.BottleneckCSP             [640, 640, 12]                \n",
            "  7             -1  1   7375360  models.common.Conv                      [640, 1280, 3, 2]             \n",
            "  8             -1  1   4099840  models.common.SPP                       [1280, 1280, [5, 9, 13]]      \n",
            "  9             -1  1  20087040  models.common.BottleneckCSP             [1280, 1280, 4, False]        \n",
            " 10             -1  1    820480  models.common.Conv                      [1280, 640, 1, 1]             \n",
            " 11             -1  1         0  torch.nn.modules.upsampling.Upsample    [None, 2, 'nearest']          \n",
            " 12        [-1, 6]  1         0  models.common.Concat                    [1]                           \n",
            " 13             -1  1   5435520  models.common.BottleneckCSP             [1280, 640, 4, False]         \n",
            " 14             -1  1    205440  models.common.Conv                      [640, 320, 1, 1]              \n",
            " 15             -1  1         0  torch.nn.modules.upsampling.Upsample    [None, 2, 'nearest']          \n",
            " 16        [-1, 4]  1         0  models.common.Concat                    [1]                           \n",
            " 17             -1  1   1360960  models.common.BottleneckCSP             [640, 320, 4, False]          \n",
            " 18             -1  1      5778  torch.nn.modules.conv.Conv2d            [320, 18, 1, 1]               \n",
            " 19             -2  1    922240  models.common.Conv                      [320, 320, 3, 2]              \n",
            " 20       [-1, 14]  1         0  models.common.Concat                    [1]                           \n",
            " 21             -1  1   5025920  models.common.BottleneckCSP             [640, 640, 4, False]          \n",
            " 22             -1  1     11538  torch.nn.modules.conv.Conv2d            [640, 18, 1, 1]               \n",
            " 23             -2  1   3687680  models.common.Conv                      [640, 640, 3, 2]              \n",
            " 24       [-1, 10]  1         0  models.common.Concat                    [1]                           \n",
            " 25             -1  1  20087040  models.common.BottleneckCSP             [1280, 1280, 4, False]        \n",
            " 26             -1  1     23058  torch.nn.modules.conv.Conv2d            [1280, 18, 1, 1]              \n",
            " 27   [-1, 22, 18]  1         0  models.yolo.Detect                      [1, [[116, 90, 156, 198, 373, 326], [30, 61, 62, 45, 59, 119], [10, 13, 16, 30, 33, 23]]]\n",
            "Model Summary: 407 layers, 8.84337e+07 parameters, 8.84337e+07 gradients\n",
            "\n",
            "Optimizer groups: 134 .bias, 142 conv.weight, 131 other\n",
            "  % Total    % Received % Xferd  Average Speed   Time    Time     Time  Current\n",
            "                                 Dload  Upload   Total   Spent    Left  Speed\n",
            "100   141    0   141    0     0   2136      0 --:--:-- --:--:-- --:--:--  2136\n",
            "Downloading https://drive.google.com/uc?export=download&id=1mM8aZJlWTxOg7BZJvNUMrTnA2AbeCVzS as yolov5x.pt... Done (0.3s)\n",
            "  % Total    % Received % Xferd  Average Speed   Time    Time     Time  Current\n",
            "                                 Dload  Upload   Total   Spent    Left  Speed\n",
            "100   196  100   196    0     0   1342      0 --:--:-- --:--:-- --:--:--  1351\n",
            "Traceback (most recent call last):\n",
            "  File \"train.py\", line 404, in <module>\n",
            "    train(hyp)\n",
            "  File \"train.py\", line 109, in train\n",
            "    google_utils.attempt_download(weights)\n",
            "  File \"/content/yolov5/utils/google_utils.py\", line 36, in attempt_download\n",
            "    raise Exception(msg)\n",
            "Exception: yolov5x.pt missing, try downloading from https://drive.google.com/drive/folders/1Drs_Aiu7xx6S-ix95f9kNsA6ueKRpN2J\n"
          ]
        }
      ],
      "source": [
        "!python train.py --img 640 --batch 4 --epochs 30 \\\n",
        "  --data ./data/clothing.yaml --cfg ./models/yolov5x.yaml --weights yolov5x.pt \\\n",
        "  --name yolov5x_clothing --cache"
      ]
    }
  ],
  "metadata": {
    "accelerator": "GPU",
    "colab": {
      "collapsed_sections": [],
      "name": "Yolov5_Project.ipynb",
      "provenance": [],
      "authorship_tag": "ABX9TyMeVc+m2XkPsQ/KMpgSVaux",
      "include_colab_link": true
    },
    "kernelspec": {
      "display_name": "Python 3",
      "name": "python3"
    },
    "language_info": {
      "name": "python"
    }
  },
  "nbformat": 4,
  "nbformat_minor": 0
}