{
  "nbformat": 4,
  "nbformat_minor": 0,
  "metadata": {
    "colab": {
      "name": "Yolo_Prediction.ipynb",
      "provenance": [],
      "collapsed_sections": [],
      "authorship_tag": "ABX9TyNF0d6gwRMkcgShwke3xmGi",
      "include_colab_link": true
    },
    "kernelspec": {
      "name": "python3",
      "display_name": "Python 3"
    },
    "language_info": {
      "name": "python"
    },
    "accelerator": "GPU"
  },
  "cells": [
    {
      "cell_type": "markdown",
      "metadata": {
        "id": "view-in-github",
        "colab_type": "text"
      },
      "source": [
        "<a href=\"https://colab.research.google.com/github/SteBaum/Nigeria-Bank/blob/main/Yolo_Prediction.ipynb\" target=\"_parent\"><img src=\"https://colab.research.google.com/assets/colab-badge.svg\" alt=\"Open In Colab\"/></a>"
      ]
    },
    {
      "cell_type": "code",
      "execution_count": 1,
      "metadata": {
        "colab": {
          "base_uri": "https://localhost:8080/"
        },
        "id": "UN9_NlpYraWe",
        "outputId": "587e1ca7-cfbb-4ad9-b89d-d109287629e6"
      },
      "outputs": [
        {
          "output_type": "stream",
          "name": "stdout",
          "text": [
            "Mounted at /content/gdrive\n"
          ]
        }
      ],
      "source": [
        "# Connect to Google drive\n",
        "from google.colab import drive\n",
        "drive.mount('/content/gdrive')"
      ]
    },
    {
      "cell_type": "code",
      "source": [
        "cd /content/gdrive/MyDrive/Liberia_bank"
      ],
      "metadata": {
        "colab": {
          "base_uri": "https://localhost:8080/"
        },
        "id": "aHPy-Bk6rrzU",
        "outputId": "e50b1272-d2e3-438f-d67d-ab9fbf1e9239"
      },
      "execution_count": 2,
      "outputs": [
        {
          "output_type": "stream",
          "name": "stdout",
          "text": [
            "/content/gdrive/MyDrive/Liberia_bank\n"
          ]
        }
      ]
    },
    {
      "cell_type": "code",
      "source": [
        "# Install yolov5 and requirements file and import some modules\n",
        "#!git clone https://github.com/ultralytics/yolov5\n",
        "%cd yolov5\n",
        "%pip install -r requirements.txt  # install\n",
        "\n",
        "import torch\n",
        "import utils\n",
        "%cd yolov5\n",
        "display = utils.notebook_init()  # checks"
      ],
      "metadata": {
        "colab": {
          "base_uri": "https://localhost:8080/"
        },
        "id": "7nEg907Irsym",
        "outputId": "b8f70993-8295-4df4-9a7d-88f1f397bb9a"
      },
      "execution_count": 3,
      "outputs": [
        {
          "output_type": "stream",
          "name": "stderr",
          "text": [
            "YOLOv5 🚀 v6.1-22-g6dd82c0 torch 1.10.0+cu111 CUDA:0 (Tesla P100-PCIE-16GB, 16281MiB)\n"
          ]
        },
        {
          "output_type": "stream",
          "name": "stdout",
          "text": [
            "Setup complete ✅ (2 CPUs, 12.7 GB RAM, 42.3/166.8 GB disk)\n"
          ]
        }
      ]
    },
    {
      "cell_type": "code",
      "source": [
        "# get Yolo updates if you have already cloned it a while ago.\n",
        "!git pull https://github.com/ultralytics/yolov5"
      ],
      "metadata": {
        "colab": {
          "base_uri": "https://localhost:8080/"
        },
        "id": "2-hMod-Wsf1P",
        "outputId": "a5fceb23-f5e9-4297-b4bd-4f1162b04e3d"
      },
      "execution_count": 4,
      "outputs": [
        {
          "output_type": "stream",
          "name": "stdout",
          "text": [
            "From https://github.com/ultralytics/yolov5\n",
            " * branch            HEAD       -> FETCH_HEAD\n",
            "Already up to date.\n"
          ]
        }
      ]
    },
    {
      "cell_type": "code",
      "source": [
        "# Download a template  for the configurating that we will have to change manually for this dataset.\n",
        "# Please do not forget to change the number of classes in the model files.\n",
        "!gdown --id 1ZycPS5Ft_0vlfgHnLsfvZPhcH6qOAqBO -O data/clothing.yaml"
      ],
      "metadata": {
        "id": "giv8-xq6snaM"
      },
      "execution_count": null,
      "outputs": []
    },
    {
      "cell_type": "code",
      "source": [
        "# install wandb\n",
        "!pip install wandb"
      ],
      "metadata": {
        "id": "n8Ccdui8s9Wf"
      },
      "execution_count": null,
      "outputs": []
    },
    {
      "cell_type": "code",
      "source": [
        "!wandb login"
      ],
      "metadata": {
        "colab": {
          "base_uri": "https://localhost:8080/"
        },
        "id": "fZn_C5CTtAfB",
        "outputId": "73414411-3c4b-425b-fb18-8982f49e0aa2"
      },
      "execution_count": 6,
      "outputs": [
        {
          "output_type": "stream",
          "name": "stdout",
          "text": [
            "\u001b[34m\u001b[1mwandb\u001b[0m: You can find your API key in your browser here: https://wandb.ai/authorize\n",
            "\u001b[34m\u001b[1mwandb\u001b[0m: Paste an API key from your profile and hit enter, or press ctrl+c to quit: \n",
            "\u001b[34m\u001b[1mwandb\u001b[0m: Appending key for api.wandb.ai to your netrc file: /root/.netrc\n"
          ]
        }
      ]
    },
    {
      "cell_type": "code",
      "source": [
        "import wandb\n",
        "wandb.init(project=\"train\", entity=\"sbaum\")"
      ],
      "metadata": {
        "colab": {
          "base_uri": "https://localhost:8080/",
          "height": 108
        },
        "id": "XspOTvzFtHi3",
        "outputId": "7df0678b-4a89-43af-c269-3ea437ea3fe6"
      },
      "execution_count": 7,
      "outputs": [
        {
          "output_type": "stream",
          "name": "stderr",
          "text": [
            "\u001b[34m\u001b[1mwandb\u001b[0m: Currently logged in as: \u001b[33msbaum\u001b[0m (use `wandb login --relogin` to force relogin)\n"
          ]
        },
        {
          "output_type": "display_data",
          "data": {
            "text/html": [
              "Tracking run with wandb version 0.12.11"
            ],
            "text/plain": [
              "<IPython.core.display.HTML object>"
            ]
          },
          "metadata": {}
        },
        {
          "output_type": "display_data",
          "data": {
            "text/html": [
              "Run data is saved locally in <code>/content/gdrive/MyDrive/Liberia_bank/yolov5/wandb/run-20220310_083706-6jk9plz2</code>"
            ],
            "text/plain": [
              "<IPython.core.display.HTML object>"
            ]
          },
          "metadata": {}
        },
        {
          "output_type": "display_data",
          "data": {
            "text/html": [
              "Syncing run <strong><a href=\"https://wandb.ai/sbaum/train/runs/6jk9plz2\" target=\"_blank\">iconic-bush-33</a></strong> to <a href=\"https://wandb.ai/sbaum/train\" target=\"_blank\">Weights & Biases</a> (<a href=\"https://wandb.me/run\" target=\"_blank\">docs</a>)<br/>"
            ],
            "text/plain": [
              "<IPython.core.display.HTML object>"
            ]
          },
          "metadata": {}
        },
        {
          "output_type": "execute_result",
          "data": {
            "text/plain": [
              "<wandb.sdk.wandb_run.Run at 0x7fbe84b3eed0>"
            ],
            "text/html": [
              "<button onClick=\"this.nextSibling.style.display='block';this.style.display='none';\">Display W&B run</button><iframe src=\"https://wandb.ai/sbaum/train/runs/6jk9plz2?jupyter=true\" style=\"border:none;width:100%;height:420px;display:none;\"></iframe>"
            ]
          },
          "metadata": {},
          "execution_count": 7
        }
      ]
    },
    {
      "cell_type": "markdown",
      "source": [
        "Please do not forget to activate the GPU!"
      ],
      "metadata": {
        "id": "3_j2LpD1_ONd"
      }
    },
    {
      "cell_type": "code",
      "source": [
        "# Start a training run.\n",
        "# Specify the image size, batchnumber which is the number of images processed at\n",
        "# the same time, epochs which is the number of rounds.\n",
        "# data = configuration file which contains the datasets location, number and name of classes.\n",
        "# cfg.= model we want to use\n",
        "# weights = the model's corresponding weights.\n",
        "# name = the name we give to the training run\n",
        "# cache = cache the images in order for the training to go faster.\n",
        "!python train.py --img 640 --batch 1 --epochs 30 \\\n",
        "  --data ./data/png_images.yaml --cfg ./models/yolov5x.yaml --weights yolov5x.pt \\\n",
        "  --name yolov5x_png_images_epochs_30 --cache"
      ],
      "metadata": {
        "id": "bnrdR60wtMKx"
      },
      "execution_count": null,
      "outputs": []
    },
    {
      "cell_type": "markdown",
      "source": [
        "The training script also executes the validation. However the validation script executes the detection onto the validation dataset with the best weights from the training run.\n",
        "\n",
        "In order to proceed with the validation and the detection we need to configure a file where we specify the datasets, the number of classes and their name. by default there is the coco128.yaml file for the coco dataset in the yolo/data folder. We just need to adjust it to our data."
      ],
      "metadata": {
        "id": "ojpo0_kshOcp"
      }
    },
    {
      "cell_type": "code",
      "source": [
        "# Check the results with the best weights from the training run on the validation dataset.\n",
        "!python val.py --weights /content/gdrive/MyDrive/Liberia_bank/yolov5/runs/train/yolov5x_png_images_epochs_30/weights/best.pt \\\n",
        "--data coco128.yaml --img 640 --name yolov5_png_30_epochs"
      ],
      "metadata": {
        "id": "b1opWN8ztW9h"
      },
      "execution_count": null,
      "outputs": []
    },
    {
      "cell_type": "code",
      "source": [
        "# Detect the bounding boxes on new images with the best weights from the training run.\n",
        "!python detect.py --weights /content/gdrive/MyDrive/Liberia_bank/yolov5/runs/train/yolov5x_png_images_epochs_30/weights/best.pt \\\n",
        " --img 640 --conf 0.4 --source /content/gdrive/MyDrive/pictures --name extra_pictures_30_epochs"
      ],
      "metadata": {
        "id": "UNZwvFltttLg"
      },
      "execution_count": null,
      "outputs": []
    }
  ]
}