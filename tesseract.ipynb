{
  "nbformat": 4,
  "nbformat_minor": 0,
  "metadata": {
    "colab": {
      "name": "tesseract.ipynb",
      "provenance": [],
      "collapsed_sections": [],
      "authorship_tag": "ABX9TyOaa3/WsiQcUipjkwhIYdWI",
      "include_colab_link": true
    },
    "kernelspec": {
      "name": "python3",
      "display_name": "Python 3"
    },
    "language_info": {
      "name": "python"
    }
  },
  "cells": [
    {
      "cell_type": "markdown",
      "metadata": {
        "id": "view-in-github",
        "colab_type": "text"
      },
      "source": [
        "<a href=\"https://colab.research.google.com/github/SteBaum/Nigeria-Bank/blob/main/tesseract.ipynb\" target=\"_parent\"><img src=\"https://colab.research.google.com/assets/colab-badge.svg\" alt=\"Open In Colab\"/></a>"
      ]
    },
    {
      "cell_type": "code",
      "source": [
        "from google.colab import drive\n",
        "drive.mount(\"content\")"
      ],
      "metadata": {
        "colab": {
          "base_uri": "https://localhost:8080/"
        },
        "id": "xQHDsfNmycYP",
        "outputId": "f6818490-3ab0-4ec1-988b-16d519b1ffff"
      },
      "execution_count": 1,
      "outputs": [
        {
          "output_type": "stream",
          "name": "stdout",
          "text": [
            "Mounted at content\n"
          ]
        }
      ]
    },
    {
      "cell_type": "code",
      "execution_count": null,
      "metadata": {
        "id": "KOnP13DZxYeF"
      },
      "outputs": [],
      "source": [
        "# Installations\n",
        "!pip install pytesseract\n",
        "!sudo apt install tesseract-ocr\n",
        "#!sudo apt install libtesseract-dev"
      ]
    },
    {
      "cell_type": "code",
      "source": [
        "# import modules\n",
        "import pandas as pd\n",
        "import pytesseract\n",
        "import glob\n",
        "\n"
      ],
      "metadata": {
        "id": "SEmPk8ufx5eA"
      },
      "execution_count": 9,
      "outputs": []
    },
    {
      "cell_type": "code",
      "source": [
        "cd /content/content/MyDrive/box"
      ],
      "metadata": {
        "colab": {
          "base_uri": "https://localhost:8080/"
        },
        "id": "AXubAxO8cuM3",
        "outputId": "f612c70c-280e-4813-9673-3e0296163067"
      },
      "execution_count": 10,
      "outputs": [
        {
          "output_type": "stream",
          "name": "stdout",
          "text": [
            "/content/content/MyDrive/box\n"
          ]
        }
      ]
    },
    {
      "cell_type": "code",
      "source": [
        "# Prediction for all images in a specific folder\n",
        "def ocr_predict():\n",
        "\n",
        "  # Goes through all images in the folder.\n",
        "  for image in glob.glob(\"*.jpg\"):\n",
        "\n",
        "    # Extracts all words in the image and gives their coordinates.\n",
        "    data = pytesseract.image_to_data(image, lang='eng', config='psm--6')\n",
        "    print(image)\n",
        "\n",
        "    # Print the output in a txt file.\n",
        "    with open(f'{image[:-4]}.txt', 'w') as f:\n",
        "      print(data, file=f)\n",
        "  \n",
        "  # Goes through all txt output files and create a pandas dataframe.\n",
        "  for text in glob.glob(\"*.txt\"):\n",
        "    df = pd.read_table(f\"{text}\") # Read the dataframe.\n",
        "    df = df.dropna() # Drop empty rows.\n",
        "    df['text'] = df['text'].astype(str) # Convert the text column into string.\n",
        "    \n",
        "    # Merge all words on the same line and its coordinates.\n",
        "    df1 = df.groupby('top')['text'].apply(' '.join).reset_index()\n",
        "    df2 = df.groupby('top')['left'].min().reset_index()\n",
        "    df3 = df.groupby('top')['width'].sum().reset_index()\n",
        "    df4 = df.groupby('top')['height'].mean().reset_index()\n",
        "    df5 = pd.concat([df1, df2, df3, df4], axis = 1)\n",
        "\n",
        "    # Rename the columns.\n",
        "    df5.columns = ['top', 'text', 'top', 'xmin', 'ymin', 'xmax', 'top', 'ymax']\n",
        "\n",
        "    # xmax = xmin + width and ymax = ymin + height.\n",
        "    df5['xmax'] = df5['xmin'] +df5['xmax']\n",
        "    df5['ymax'] = df5['ymin'] +df5['ymax']\n",
        "\n",
        "    # Drop the duplicate ymin columns obtained by the concatination.\n",
        "    df5 = df5.drop(['top'], axis = 1)\n",
        "\n",
        "    # Save results into a csv file.\n",
        "    df5.to_csv(f'{text[:-4]}.csv', sep=',')\n"
      ],
      "metadata": {
        "id": "kR9UVIJsIEA4"
      },
      "execution_count": 15,
      "outputs": []
    },
    {
      "cell_type": "code",
      "source": [
        "\n",
        "ocr_predict()\n",
        "  "
      ],
      "metadata": {
        "id": "qq0obf-WLLQ-",
        "colab": {
          "base_uri": "https://localhost:8080/"
        },
        "outputId": "5c32847e-8306-4e56-9b00-0d0372de3be8"
      },
      "execution_count": 16,
      "outputs": [
        {
          "output_type": "stream",
          "name": "stdout",
          "text": [
            "downloadbox.jpg\n",
            "erario statement_0box.jpg\n",
            "MR Adefisoye Hezekiah STATEMENT_1box.jpg\n",
            "MR Adefisoye Hezekiah STATEMENT_3box.jpg\n",
            "MR TEMOWO OLUWATOBI   TELLERPAY APRIL STATEMENT_0box.jpg\n",
            "download (2)boxh.jpg\n",
            "fav- salary_0box.jpg\n",
            "MR TEMOWO OLUWATOBI   TELLERPAY APRIL STATEMENT_0_title.jpg\n"
          ]
        }
      ]
    }
  ]
}