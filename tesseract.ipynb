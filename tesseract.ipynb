{
  "nbformat": 4,
  "nbformat_minor": 0,
  "metadata": {
    "colab": {
      "name": "tesseract.ipynb",
      "provenance": [],
      "collapsed_sections": [],
      "authorship_tag": "ABX9TyM7BMToicJkRJU0QjFw18ON",
      "include_colab_link": true
    },
    "kernelspec": {
      "name": "python3",
      "display_name": "Python 3"
    },
    "language_info": {
      "name": "python"
    }
  },
  "cells": [
    {
      "cell_type": "markdown",
      "metadata": {
        "id": "view-in-github",
        "colab_type": "text"
      },
      "source": [
        "<a href=\"https://colab.research.google.com/github/SteBaum/Nigeria-Bank/blob/main/tesseract.ipynb\" target=\"_parent\"><img src=\"https://colab.research.google.com/assets/colab-badge.svg\" alt=\"Open In Colab\"/></a>"
      ]
    },
    {
      "cell_type": "code",
      "source": [
        "from google.colab import drive\n",
        "drive.mount(\"content\")"
      ],
      "metadata": {
        "colab": {
          "base_uri": "https://localhost:8080/"
        },
        "id": "xQHDsfNmycYP",
        "outputId": "81701c1b-c52c-4530-e582-fc8af420af0e"
      },
      "execution_count": 1,
      "outputs": [
        {
          "output_type": "stream",
          "name": "stdout",
          "text": [
            "Drive already mounted at content; to attempt to forcibly remount, call drive.mount(\"content\", force_remount=True).\n"
          ]
        }
      ]
    },
    {
      "cell_type": "code",
      "execution_count": null,
      "metadata": {
        "id": "KOnP13DZxYeF"
      },
      "outputs": [],
      "source": [
        "# Installations\n",
        "!pip install pytesseract\n",
        "!sudo apt install tesseract-ocr\n",
        "#!sudo apt install libtesseract-dev"
      ]
    },
    {
      "cell_type": "code",
      "source": [
        "# import modules\n",
        "import pandas as pd\n",
        "import pytesseract\n",
        "import glob\n",
        "\n"
      ],
      "metadata": {
        "id": "SEmPk8ufx5eA"
      },
      "execution_count": 3,
      "outputs": []
    },
    {
      "cell_type": "code",
      "source": [
        "cd /content/content/MyDrive/box"
      ],
      "metadata": {
        "colab": {
          "base_uri": "https://localhost:8080/"
        },
        "id": "AXubAxO8cuM3",
        "outputId": "3573a405-b43b-4dae-de9a-7db78b3e68df"
      },
      "execution_count": 4,
      "outputs": [
        {
          "output_type": "stream",
          "name": "stdout",
          "text": [
            "/content/content/MyDrive/box\n"
          ]
        }
      ]
    },
    {
      "cell_type": "code",
      "source": [
        "# Prediction for all images in the current folder\n",
        "def ocr_predict():\n",
        "\n",
        "  \"\"\"  \n",
        "  This function goes through all jpg files of the current folder and first\n",
        "  extracts of each image, each word and its coordinates and writes them into a\n",
        "  text file, then transforms this data into dataframe where all text on one line\n",
        "  is regrouped, gives its coordinates and saves the dataframe into a csv file.\n",
        "  \"\"\"\n",
        "\n",
        "  # Goes through all images in the folder.\n",
        "  for image in glob.glob(\"*.jpg\"):\n",
        "\n",
        "    try:\n",
        "\n",
        "      # Extracts all words in the image and gives their coordinates.\n",
        "      data = pytesseract.image_to_data(image, lang='eng', config='psm--6')\n",
        "      print(image)\n",
        "\n",
        "      # Print the output in a txt file.\n",
        "      with open(f'{image[:-4]}.txt', 'w') as f:\n",
        "        print(data, file=f)\n",
        "\n",
        "    except:\n",
        "      print(\"error for image : \", image)\n",
        "      continue\n",
        "\n",
        "    \n",
        "      # Goes through all txt output files and create a pandas dataframe.\n",
        "  for text in glob.glob(\"*.txt\"):\n",
        "\n",
        "    try:\n",
        "\n",
        "      df = pd.read_table(f\"{text}\") # Read the dataframe.\n",
        "      df = df.dropna() # Drop empty rows.\n",
        "      df['text'] = df['text'].astype(str) # Convert the text column into string.\n",
        "        \n",
        "      # Merge all words on the same line and its coordinates.\n",
        "\n",
        "      # Group all the words which are on the same line (same coordinate 'top')\n",
        "      df1 = df.groupby('top')['text'].apply(' '.join).reset_index()\n",
        "\n",
        "      # Get the left value of the 1st word of the line.\n",
        "      df2 = df.groupby('top')['left'].min().reset_index()\n",
        "\n",
        "      # Get the length of all words on one line.\n",
        "      df3 = df.groupby('top')['width'].sum().reset_index()\n",
        "\n",
        "      # Get the height of the highest word on the line.\n",
        "      df4 = df.groupby('top')['height'].max().reset_index()\n",
        "\n",
        "      # Concatinate in order to obtain the text and its coordinates.\n",
        "      df5 = pd.concat([df1['text'], df2['left'], df3, df4['height']], axis = 1)\n",
        "\n",
        "      # Get the xmax and ymax coordinates.\n",
        "      df5['xmax'] = df5['left'] +df5['width']        \n",
        "      df5['ymax'] = df5['top'] +df5['height']\n",
        "\n",
        "      #Drop width and height which we do not need.\n",
        "      df5 = df5.drop(['width', 'height'], axis = 1)\n",
        "\n",
        "      #Rename the columns.\n",
        "      df5.columns = ['text', 'xmin', 'ymin', 'xmax', 'ymax']\n",
        "\n",
        "      # Save results into a csv file.\n",
        "      df5.to_csv(f'{text[:-4]}.csv', sep=',') # saved with index\n",
        "\n",
        "    except:\n",
        "      print(\"error for textfile : \", text)\n",
        "      continue\n",
        "\n"
      ],
      "metadata": {
        "id": "kR9UVIJsIEA4"
      },
      "execution_count": 44,
      "outputs": []
    },
    {
      "cell_type": "code",
      "source": [
        "\n",
        "ocr_predict()\n",
        "  "
      ],
      "metadata": {
        "id": "qq0obf-WLLQ-",
        "colab": {
          "base_uri": "https://localhost:8080/"
        },
        "outputId": "9399ab65-01f8-405b-f055-4281795a3a0b"
      },
      "execution_count": 45,
      "outputs": [
        {
          "output_type": "stream",
          "name": "stdout",
          "text": [
            "downloadbox.jpg\n",
            "erario statement_0box.jpg\n",
            "MR Adefisoye Hezekiah STATEMENT_1box.jpg\n",
            "MR Adefisoye Hezekiah STATEMENT_3box.jpg\n",
            "MR TEMOWO OLUWATOBI   TELLERPAY APRIL STATEMENT_0box.jpg\n",
            "download (2)boxh.jpg\n",
            "fav- salary_0box.jpg\n",
            "MR TEMOWO OLUWATOBI   TELLERPAY APRIL STATEMENT_0_title.jpg\n"
          ]
        }
      ]
    }
  ]
}