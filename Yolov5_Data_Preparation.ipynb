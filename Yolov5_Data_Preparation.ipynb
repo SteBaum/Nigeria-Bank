{
  "cells": [
    {
      "cell_type": "markdown",
      "metadata": {
        "id": "view-in-github",
        "colab_type": "text"
      },
      "source": [
        "<a href=\"https://colab.research.google.com/github/SteBaum/Nigeria-Bank/blob/main/Yolov5_Data_Preparation.ipynb\" target=\"_parent\"><img src=\"https://colab.research.google.com/assets/colab-badge.svg\" alt=\"Open In Colab\"/></a>"
      ]
    },
    {
      "cell_type": "code",
      "execution_count": null,
      "metadata": {
        "id": "uRFW3axhPLjB",
        "colab": {
          "base_uri": "https://localhost:8080/"
        },
        "outputId": "8d7f29b9-572c-4190-d346-ec7b5bbeb4c2"
      },
      "outputs": [
        {
          "output_type": "stream",
          "name": "stdout",
          "text": [
            "Mounted at /content/gdrive\n"
          ]
        }
      ],
      "source": [
        "# Connect to Google drive\n",
        "from google.colab import drive\n",
        "drive.mount('/content/gdrive')"
      ]
    },
    {
      "cell_type": "code",
      "source": [
        "# Convert all images into png format\n",
        "import glob\n",
        "for item in glob.glob(\"*\"):\n",
        " Path(str(item)).rename(Path(str(item)).with_suffix('.png'))\n"
      ],
      "metadata": {
        "id": "kP7F4DYbiT_T"
      },
      "execution_count": null,
      "outputs": []
    },
    {
      "cell_type": "code",
      "source": [
        "# Check the number of files in folder\n",
        "len(glob.glob(\"*\"))"
      ],
      "metadata": {
        "colab": {
          "base_uri": "https://localhost:8080/"
        },
        "id": "GtZ-TgSepcYN",
        "outputId": "88bd067f-3ab4-4a00-95bd-23002b565e80"
      },
      "execution_count": null,
      "outputs": [
        {
          "output_type": "execute_result",
          "data": {
            "text/plain": [
              "1086"
            ]
          },
          "metadata": {},
          "execution_count": 29
        }
      ]
    },
    {
      "cell_type": "code",
      "execution_count": null,
      "metadata": {
        "id": "6HfRupLVJe_Y"
      },
      "outputs": [],
      "source": [
        "# Import modules\n",
        "import glob\n",
        "from pathlib import Path\n",
        "import shutil\n",
        "from tqdm import tqdm\n",
        "import numpy as np\n",
        "import json\n",
        "import cv2\n",
        "from IPython.display import display\n",
        "from sklearn.model_selection import train_test_split\n",
        "import seaborn as sns\n",
        "import PIL.Image as Image\n",
        "from pylab import rcParams\n",
        "import matplotlib.pyplot as plt\n",
        "from matplotlib import rc\n",
        "import pandas as pd\n",
        "import ast\n",
        "import os\n",
        "import re\n"
      ]
    },
    {
      "cell_type": "code",
      "execution_count": null,
      "metadata": {
        "id": "TRo7rtUjYS_S",
        "colab": {
          "base_uri": "https://localhost:8080/"
        },
        "outputId": "922fbba6-c0dd-4030-9ca8-4c73415549c1"
      },
      "outputs": [
        {
          "output_type": "execute_result",
          "data": {
            "text/plain": [
              "(146, 7)"
            ]
          },
          "metadata": {},
          "execution_count": 23
        }
      ],
      "source": [
        "# Load csv dataframe\n",
        "bankreports = pd.read_csv(\"/content/gdrive/MyDrive/Liberia_bank/via_project_15Feb2022_6h10m_csv.csv\")\n",
        "bankreports.shape"
      ]
    },
    {
      "cell_type": "code",
      "source": [
        "type(bankreports_new_images.filename[1])"
      ],
      "metadata": {
        "colab": {
          "base_uri": "https://localhost:8080/"
        },
        "id": "Oifih3qwSjsQ",
        "outputId": "310104bb-05bf-41a6-e254-cdc0290c50e4"
      },
      "execution_count": null,
      "outputs": [
        {
          "output_type": "execute_result",
          "data": {
            "text/plain": [
              "str"
            ]
          },
          "metadata": {},
          "execution_count": 7
        }
      ]
    },
    {
      "cell_type": "code",
      "source": [
        "# Convert all .jpg names into .png\n",
        "bankreports.filename = [item.replace(\".jpg\", \".png\") for item in bankreports.filename]"
      ],
      "metadata": {
        "id": "a_pPchPpReEO"
      },
      "execution_count": null,
      "outputs": []
    },
    {
      "cell_type": "code",
      "source": [
        "bankreports.head()"
      ],
      "metadata": {
        "colab": {
          "base_uri": "https://localhost:8080/",
          "height": 339
        },
        "id": "jL4BTHTaM3Zb",
        "outputId": "ace82c49-f392-4964-9459-7204e12496b0"
      },
      "execution_count": null,
      "outputs": [
        {
          "output_type": "execute_result",
          "data": {
            "text/html": [
              "\n",
              "  <div id=\"df-aa9384e7-f452-4dba-a8ff-f0f321abed5a\">\n",
              "    <div class=\"colab-df-container\">\n",
              "      <div>\n",
              "<style scoped>\n",
              "    .dataframe tbody tr th:only-of-type {\n",
              "        vertical-align: middle;\n",
              "    }\n",
              "\n",
              "    .dataframe tbody tr th {\n",
              "        vertical-align: top;\n",
              "    }\n",
              "\n",
              "    .dataframe thead th {\n",
              "        text-align: right;\n",
              "    }\n",
              "</style>\n",
              "<table border=\"1\" class=\"dataframe\">\n",
              "  <thead>\n",
              "    <tr style=\"text-align: right;\">\n",
              "      <th></th>\n",
              "      <th>filename</th>\n",
              "      <th>file_size</th>\n",
              "      <th>file_attributes</th>\n",
              "      <th>region_count</th>\n",
              "      <th>region_id</th>\n",
              "      <th>region_shape_attributes</th>\n",
              "      <th>region_attributes</th>\n",
              "    </tr>\n",
              "  </thead>\n",
              "  <tbody>\n",
              "    <tr>\n",
              "      <th>0</th>\n",
              "      <td>1-2.png</td>\n",
              "      <td>144789</td>\n",
              "      <td>{}</td>\n",
              "      <td>2</td>\n",
              "      <td>0</td>\n",
              "      <td>{\"name\":\"rect\",\"x\":20,\"y\":136,\"width\":200,\"hei...</td>\n",
              "      <td>{}</td>\n",
              "    </tr>\n",
              "    <tr>\n",
              "      <th>1</th>\n",
              "      <td>1-2.png</td>\n",
              "      <td>144789</td>\n",
              "      <td>{}</td>\n",
              "      <td>2</td>\n",
              "      <td>1</td>\n",
              "      <td>{\"name\":\"rect\",\"x\":276,\"y\":39,\"width\":201,\"hei...</td>\n",
              "      <td>{}</td>\n",
              "    </tr>\n",
              "    <tr>\n",
              "      <th>2</th>\n",
              "      <td>1-2-pages.png</td>\n",
              "      <td>120719</td>\n",
              "      <td>{}</td>\n",
              "      <td>2</td>\n",
              "      <td>0</td>\n",
              "      <td>{\"name\":\"rect\",\"x\":14,\"y\":200,\"width\":220,\"hei...</td>\n",
              "      <td>{}</td>\n",
              "    </tr>\n",
              "    <tr>\n",
              "      <th>3</th>\n",
              "      <td>1-2-pages.png</td>\n",
              "      <td>120719</td>\n",
              "      <td>{}</td>\n",
              "      <td>2</td>\n",
              "      <td>1</td>\n",
              "      <td>{\"name\":\"rect\",\"x\":15,\"y\":107,\"width\":219,\"hei...</td>\n",
              "      <td>{}</td>\n",
              "    </tr>\n",
              "    <tr>\n",
              "      <th>4</th>\n",
              "      <td>Addiko-bank-st.png</td>\n",
              "      <td>187754</td>\n",
              "      <td>{}</td>\n",
              "      <td>2</td>\n",
              "      <td>0</td>\n",
              "      <td>{\"name\":\"rect\",\"x\":36,\"y\":377,\"width\":393,\"hei...</td>\n",
              "      <td>{}</td>\n",
              "    </tr>\n",
              "  </tbody>\n",
              "</table>\n",
              "</div>\n",
              "      <button class=\"colab-df-convert\" onclick=\"convertToInteractive('df-aa9384e7-f452-4dba-a8ff-f0f321abed5a')\"\n",
              "              title=\"Convert this dataframe to an interactive table.\"\n",
              "              style=\"display:none;\">\n",
              "        \n",
              "  <svg xmlns=\"http://www.w3.org/2000/svg\" height=\"24px\"viewBox=\"0 0 24 24\"\n",
              "       width=\"24px\">\n",
              "    <path d=\"M0 0h24v24H0V0z\" fill=\"none\"/>\n",
              "    <path d=\"M18.56 5.44l.94 2.06.94-2.06 2.06-.94-2.06-.94-.94-2.06-.94 2.06-2.06.94zm-11 1L8.5 8.5l.94-2.06 2.06-.94-2.06-.94L8.5 2.5l-.94 2.06-2.06.94zm10 10l.94 2.06.94-2.06 2.06-.94-2.06-.94-.94-2.06-.94 2.06-2.06.94z\"/><path d=\"M17.41 7.96l-1.37-1.37c-.4-.4-.92-.59-1.43-.59-.52 0-1.04.2-1.43.59L10.3 9.45l-7.72 7.72c-.78.78-.78 2.05 0 2.83L4 21.41c.39.39.9.59 1.41.59.51 0 1.02-.2 1.41-.59l7.78-7.78 2.81-2.81c.8-.78.8-2.07 0-2.86zM5.41 20L4 18.59l7.72-7.72 1.47 1.35L5.41 20z\"/>\n",
              "  </svg>\n",
              "      </button>\n",
              "      \n",
              "  <style>\n",
              "    .colab-df-container {\n",
              "      display:flex;\n",
              "      flex-wrap:wrap;\n",
              "      gap: 12px;\n",
              "    }\n",
              "\n",
              "    .colab-df-convert {\n",
              "      background-color: #E8F0FE;\n",
              "      border: none;\n",
              "      border-radius: 50%;\n",
              "      cursor: pointer;\n",
              "      display: none;\n",
              "      fill: #1967D2;\n",
              "      height: 32px;\n",
              "      padding: 0 0 0 0;\n",
              "      width: 32px;\n",
              "    }\n",
              "\n",
              "    .colab-df-convert:hover {\n",
              "      background-color: #E2EBFA;\n",
              "      box-shadow: 0px 1px 2px rgba(60, 64, 67, 0.3), 0px 1px 3px 1px rgba(60, 64, 67, 0.15);\n",
              "      fill: #174EA6;\n",
              "    }\n",
              "\n",
              "    [theme=dark] .colab-df-convert {\n",
              "      background-color: #3B4455;\n",
              "      fill: #D2E3FC;\n",
              "    }\n",
              "\n",
              "    [theme=dark] .colab-df-convert:hover {\n",
              "      background-color: #434B5C;\n",
              "      box-shadow: 0px 1px 3px 1px rgba(0, 0, 0, 0.15);\n",
              "      filter: drop-shadow(0px 1px 2px rgba(0, 0, 0, 0.3));\n",
              "      fill: #FFFFFF;\n",
              "    }\n",
              "  </style>\n",
              "\n",
              "      <script>\n",
              "        const buttonEl =\n",
              "          document.querySelector('#df-aa9384e7-f452-4dba-a8ff-f0f321abed5a button.colab-df-convert');\n",
              "        buttonEl.style.display =\n",
              "          google.colab.kernel.accessAllowed ? 'block' : 'none';\n",
              "\n",
              "        async function convertToInteractive(key) {\n",
              "          const element = document.querySelector('#df-aa9384e7-f452-4dba-a8ff-f0f321abed5a');\n",
              "          const dataTable =\n",
              "            await google.colab.kernel.invokeFunction('convertToInteractive',\n",
              "                                                     [key], {});\n",
              "          if (!dataTable) return;\n",
              "\n",
              "          const docLinkHtml = 'Like what you see? Visit the ' +\n",
              "            '<a target=\"_blank\" href=https://colab.research.google.com/notebooks/data_table.ipynb>data table notebook</a>'\n",
              "            + ' to learn more about interactive tables.';\n",
              "          element.innerHTML = '';\n",
              "          dataTable['output_type'] = 'display_data';\n",
              "          await google.colab.output.renderOutput(dataTable, element);\n",
              "          const docLink = document.createElement('div');\n",
              "          docLink.innerHTML = docLinkHtml;\n",
              "          element.appendChild(docLink);\n",
              "        }\n",
              "      </script>\n",
              "    </div>\n",
              "  </div>\n",
              "  "
            ],
            "text/plain": [
              "             filename  file_size file_attributes  region_count  region_id  \\\n",
              "0             1-2.png     144789              {}             2          0   \n",
              "1             1-2.png     144789              {}             2          1   \n",
              "2       1-2-pages.png     120719              {}             2          0   \n",
              "3       1-2-pages.png     120719              {}             2          1   \n",
              "4  Addiko-bank-st.png     187754              {}             2          0   \n",
              "\n",
              "                             region_shape_attributes region_attributes  \n",
              "0  {\"name\":\"rect\",\"x\":20,\"y\":136,\"width\":200,\"hei...                {}  \n",
              "1  {\"name\":\"rect\",\"x\":276,\"y\":39,\"width\":201,\"hei...                {}  \n",
              "2  {\"name\":\"rect\",\"x\":14,\"y\":200,\"width\":220,\"hei...                {}  \n",
              "3  {\"name\":\"rect\",\"x\":15,\"y\":107,\"width\":219,\"hei...                {}  \n",
              "4  {\"name\":\"rect\",\"x\":36,\"y\":377,\"width\":393,\"hei...                {}  "
            ]
          },
          "metadata": {},
          "execution_count": 6
        }
      ]
    },
    {
      "cell_type": "code",
      "execution_count": null,
      "metadata": {
        "colab": {
          "base_uri": "https://localhost:8080/",
          "height": 35
        },
        "id": "PKLS-E9FZfq9",
        "outputId": "10b4290f-6fed-4ee2-d058-53e281fb3914"
      },
      "outputs": [
        {
          "output_type": "execute_result",
          "data": {
            "application/vnd.google.colaboratory.intrinsic+json": {
              "type": "string"
            },
            "text/plain": [
              "'Azerbaijan-Access-Bank-English-language-statement-template-in-Excel-and-PDF-format.jpg'"
            ]
          },
          "metadata": {},
          "execution_count": 91
        }
      ],
      "source": [
        "# Check the region_shape_attributes column\n",
        "bankreports.filename[97]"
      ]
    },
    {
      "cell_type": "code",
      "execution_count": null,
      "metadata": {
        "id": "mCKbCn7KLOev"
      },
      "outputs": [],
      "source": [
        "# Seperate the region_shape_attributes into different columns\n",
        "df = pd.json_normalize(bankreports.region_shape_attributes.apply(ast.literal_eval))"
      ]
    },
    {
      "cell_type": "code",
      "execution_count": null,
      "metadata": {
        "id": "t3e1XPHqnVA8"
      },
      "outputs": [],
      "source": [
        "# Join the newly created columns to the dataframe\n",
        "bankreports = bankreports.join(df)"
      ]
    },
    {
      "cell_type": "code",
      "execution_count": null,
      "metadata": {
        "colab": {
          "base_uri": "https://localhost:8080/"
        },
        "id": "3fF8E_OLMMJg",
        "outputId": "835f5f72-3506-4b38-8420-5e5b47ffbcfe"
      },
      "outputs": [
        {
          "output_type": "execute_result",
          "data": {
            "text/plain": [
              "(131, 15)"
            ]
          },
          "metadata": {},
          "execution_count": 27
        }
      ],
      "source": [
        "# Split the images (and not annotations) into train and validation samples, training sample being 90%\n",
        "train_940, val_940 = train_test_split(list(bankreports['filename'].drop_duplicates()), test_size=0.1)\n",
        "len(train_940), len(val_940)"
      ]
    },
    {
      "cell_type": "code",
      "source": [
        "cd /content/gdrive/MyDrive/Liberia_bank"
      ],
      "metadata": {
        "colab": {
          "base_uri": "https://localhost:8080/"
        },
        "id": "jxN2YZ-EPSbU",
        "outputId": "7c5a1048-f253-4fc0-89ae-32087bf0ca95"
      },
      "execution_count": null,
      "outputs": [
        {
          "output_type": "stream",
          "name": "stdout",
          "text": [
            "/content/gdrive/MyDrive/Liberia_bank\n"
          ]
        }
      ]
    },
    {
      "cell_type": "code",
      "execution_count": null,
      "metadata": {
        "id": "4cAfTYOvUnn8"
      },
      "outputs": [],
      "source": [
        "# Define a function that creaets the dataset with\n",
        "# the following images and text annotation files.\n",
        "\n",
        "def create_dataset(reports, dataset_type, source_path, destination_folder):\n",
        "  images_path = Path(f\"{destination_folder}/images/{dataset_type}\")\n",
        "  images_path.mkdir(parents=True, exist_ok=True) # path and folder for image file\n",
        "\n",
        "  labels_path = Path(f\"{destination_folder}/labels/{dataset_type}\")\n",
        "  labels_path.mkdir(parents=True, exist_ok=True) # path and folder for annoation files\n",
        "\n",
        "  for item in reports:\n",
        "    # iterate over rows in the dataframe\n",
        "    try:    \n",
        "      abs_path = os.path.join(source_path, item) #create path\n",
        "            \n",
        "  # Open the image files and save them in the corresponding folders\n",
        "      img = Image.open(abs_path)\n",
        "      #img = img.convert(\"RGB\")\n",
        "      img.save(str(images_path / item), \"png\")\n",
        "      im = cv2.imread(abs_path) # We need this module in order to get the image shape.\n",
        "      h, w, _ = im.shape # Get the image height and width for the normalization.\n",
        "      label_name = item.replace(\".png\", \".txt\")\n",
        "      # Open a text file with the annotation coordinates\n",
        "      with (labels_path / label_name).open(\"w\") as label_file:\n",
        "        for idx, col in bankreports.iterrows():\n",
        "          if item == col[0]:\n",
        "            x = bankreports.iloc[idx][\"x\"]\n",
        "            y = bankreports.iloc[idx][\"y\"]\n",
        "            width = bankreports.iloc[idx][\"width\"]\n",
        "            height = bankreports.iloc[idx][\"height\"]\n",
        "\n",
        "          # Write the annotation coordinates into a text file\n",
        "            label_file.write(f\"0 {(x + width / 2)/w} {(y + height / 2)/h} {width/w} {height/h}\\n\")\n",
        "            \n",
        "    except: # accept the error and continue\n",
        "      print('error', item)\n",
        "      continue\n"
      ]
    },
    {
      "cell_type": "code",
      "execution_count": null,
      "metadata": {
        "id": "ZAAjSeNH3vO3"
      },
      "outputs": [],
      "source": [
        "# Create two datasets\n",
        "create_dataset(train_940, 'train','/content/gdrive/MyDrive/Liberia_bank/dataset_feb', 'png_reports')\n",
        "create_dataset(val_940, 'val', '/content/gdrive/MyDrive/Liberia_bank/dataset_feb', 'png_reports')"
      ]
    },
    {
      "cell_type": "code",
      "source": [
        "cd /content/gdrive/MyDrive/Liberia_bank/png_reports/images/val\n"
      ],
      "metadata": {
        "colab": {
          "base_uri": "https://localhost:8080/"
        },
        "id": "YouyglPwQunT",
        "outputId": "945c1a78-26a5-4c9d-9939-2bbbc62ca1b2"
      },
      "execution_count": null,
      "outputs": [
        {
          "output_type": "stream",
          "name": "stdout",
          "text": [
            "/content/gdrive/MyDrive/Liberia_bank/png_reports/images/val\n"
          ]
        }
      ]
    },
    {
      "cell_type": "code",
      "source": [
        "# Check the number of images or annotation files in each folder\n",
        "len(glob.glob(\"*\"))"
      ],
      "metadata": {
        "colab": {
          "base_uri": "https://localhost:8080/"
        },
        "id": "vOt-Fz1IUYQW",
        "outputId": "3b2dd1f9-6e95-4f22-a7c7-fb97be84887c"
      },
      "execution_count": null,
      "outputs": [
        {
          "output_type": "execute_result",
          "data": {
            "text/plain": [
              "109"
            ]
          },
          "metadata": {},
          "execution_count": 37
        }
      ]
    },
    {
      "cell_type": "code",
      "source": [
        "# function that injects the new images and lables in an already existing dataset\n",
        "\n",
        "def inject_dataset(reports, dataset_type, source_path, destination_folder):\n",
        "  images_path = Path(f\"{destination_folder}/images/{dataset_type}\")\n",
        "\n",
        "  labels_path = Path(f\"{destination_folder}/labels/{dataset_type}\")\n",
        "\n",
        "  for item in reports:\n",
        "    # iterate over rows in the dataframe\n",
        "    try:    \n",
        "      abs_path = os.path.join(source_path, item) #create path\n",
        "            \n",
        "  # Open the image files and save them in the corresponding folders\n",
        "      img = Image.open(abs_path)\n",
        "      #img = img.convert(\"RGB\")\n",
        "      img.save(str(images_path / item), \"png\")\n",
        "      im = cv2.imread(abs_path) # We need this module in order to get the image shape.\n",
        "      h, w, _ = im.shape # Get the image height and width for the normalization.\n",
        "      label_name = item.replace(\".png\", \".txt\")\n",
        "      # Open a text file with the annotation coordinates\n",
        "      with (labels_path / label_name).open(\"w\") as label_file:\n",
        "        for idx, col in bankreports.iterrows():\n",
        "          if item == col[0]:\n",
        "            x = bankreports.iloc[idx][\"x\"]\n",
        "            y = bankreports.iloc[idx][\"y\"]\n",
        "            width = bankreports.iloc[idx][\"width\"]\n",
        "            height = bankreports.iloc[idx][\"height\"]\n",
        "\n",
        "          # Write the annotation coordinates into a text file\n",
        "            label_file.write(f\"0 {(x + width / 2)/w} {(y + height / 2)/h} {width/w} {height/h}\\n\")\n",
        "            \n",
        "    except: # accept the error and continue\n",
        "      print('error', item)\n",
        "      continue"
      ],
      "metadata": {
        "id": "5VOTI_E1yXbr"
      },
      "execution_count": null,
      "outputs": []
    },
    {
      "cell_type": "code",
      "source": [
        "inject_dataset(train_940, 'train','/content/gdrive/MyDrive/Liberia_bank/dataset_feb', 'png_reports')\n",
        "inject_dataset(val_940, 'val', '/content/gdrive/MyDrive/Liberia_bank/dataset_feb', 'png_reports')"
      ],
      "metadata": {
        "id": "MCQ-EWyhy04o"
      },
      "execution_count": null,
      "outputs": []
    },
    {
      "cell_type": "code",
      "source": [
        "cd /content/gdrive/MyDrive/Liberia_bank/png_reports/images/val"
      ],
      "metadata": {
        "id": "520-Da7FxXTQ"
      },
      "execution_count": null,
      "outputs": []
    },
    {
      "cell_type": "code",
      "source": [
        "# Check the number of images or annotation files in each folder\n",
        "len(glob.glob(\"*\"))"
      ],
      "metadata": {
        "id": "yM8neAEhxUNx"
      },
      "execution_count": null,
      "outputs": []
    }
  ],
  "metadata": {
    "colab": {
      "collapsed_sections": [],
      "name": "Yolov5_Data_Preparation.ipynb",
      "provenance": [],
      "authorship_tag": "ABX9TyOCTkcl1LNDQMKMzZK/iBSZ",
      "include_colab_link": true
    },
    "kernelspec": {
      "display_name": "Python 3",
      "name": "python3"
    },
    "language_info": {
      "name": "python"
    }
  },
  "nbformat": 4,
  "nbformat_minor": 0
}